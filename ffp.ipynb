{
 "cells": [
  {
   "cell_type": "code",
   "execution_count": null,
   "metadata": {},
   "outputs": [],
   "source": [
    "import Pkg; \n",
    "Pkg.add(\"FFTW\");\n",
    "Pkg.add(\"PaddedViews\");\n",
    "Pkg.add(\"BenchmarkTools\");\n",
    "Pkg.add(\"ChainRules\");\n",
    "Pkg.add(\"ChainRulesCore\");"
   ]
  },
  {
   "cell_type": "code",
   "execution_count": 1,
   "metadata": {},
   "outputs": [],
   "source": [
    "using FFTW\n",
    "using Base.Threads\n",
    "using PaddedViews\n",
    "using BenchmarkTools\n",
    "using ChainRulesCore\n",
    "\n",
    "#try out different fft planners https://docs.juliahub.com/FourierAnalysis/1aWDG/1.0.1/fftw/\n",
    "#also switch to in-place operations at some point\n",
    "function create_2Dffp_plans(n::Int64,nthr::Int64)\n",
    "    FFTW.set_num_threads(nthr)\n",
    "    plan = plan_fft(rand(ComplexF64, n,n),flags=FFTW.MEASURE)\n",
    "    plan\n",
    "end\n",
    "\n",
    "function fftconv2d(arr::Array{ComplexF64,2},fftker::Array{ComplexF64,2},plan,fwd::Bool=true)::Array{ComplexF64,2}\n",
    "    narr = size(arr)[1]\n",
    "    nker = size(fftker)[1]\n",
    "    nout = nker - narr\n",
    "    if fwd==true\n",
    "        i1,i2 = 1+narr÷2, narr÷2+nout\n",
    "    else\n",
    "        i1,i2 =   narr÷2, narr÷2+nout-1\n",
    "    end\n",
    "    ifftshift(plan \\ (fftker .* (plan * sym_paddedviews(0.0+im*0.0,arr,fftker)[1])))[i1:i2,i1:i2]\n",
    "end\n",
    "    \n",
    "function green2d(nx::Int64,ny::Int64, δx::Float64, δy::Float64, freq::Float64, ϵ::Float64,μ::Float64, Dz::Float64, plan)::Tuple{Array{ComplexF64,2},Array{ComplexF64,2}}\n",
    "\n",
    "    ω = 2*π*freq\n",
    "    n = sqrt(ϵ*μ)\n",
    "    k = n*ω\n",
    "    ik = im * k\n",
    "\n",
    "    Lx,Ly = nx*δx, ny*δy\n",
    "    δxy = δx*δy\n",
    "\n",
    "    x = range(-Lx/2,Lx/2-δx, nx)'\n",
    "    y = range(-Ly/2,Ly/2-δy, ny)\n",
    "\n",
    "    gz = @. Dz * (-1 + ik * sqrt(x^2 + y^2 + Dz^2)) * cis(k*sqrt(x^2 + y^2 + Dz^2))/(4*π*sqrt(x^2 + y^2 + Dz^2)^3) * δxy * (-μ/ϵ)\n",
    "\n",
    "    fgz = plan * gz\n",
    "    fgzT = plan * reverse(gz)\n",
    "\n",
    "    (fgz,fgzT)\n",
    "\n",
    "end\n",
    "\n",
    "# Field matrix F has the format (unit cells, frequencies)\n",
    "function ffp(F::Array{ComplexF64,2}, fgs::Vector{Tuple{Array{ComplexF64,2},Array{ComplexF64,2}}}, plan, fwd::Bool)::Array{ComplexF64,2}\n",
    "    \n",
    "    narr = Int64(sqrt(size(F)[1]))\n",
    "    nker = size(fgs[1][1])[1]\n",
    "    nout = nker - narr\n",
    "    nfreqs = size(F)[2]\n",
    "\n",
    "    out = zeros(ComplexF64, nout*nout, nfreqs)\n",
    "    Threads.@threads for i in 1:nfreqs\n",
    "        @inbounds out[:,i] = vec(fftconv2d( reshape(F[:,i],narr,narr),\n",
    "                                            fwd==true ? fgs[i][1] : fgs[i][2],\n",
    "                                            plan, fwd ))\n",
    "    end\n",
    "    out\n",
    "end\n",
    "\n",
    "function near2far(F::Array{ComplexF64,2}, fgs::Vector{Tuple{Array{ComplexF64,2},Array{ComplexF64,2}}}, plan)::Array{ComplexF64,2}\n",
    "    ffp(F,fgs,plan, true)\n",
    "end\n",
    "    \n",
    "\n",
    "function ChainRulesCore.rrule(::typeof(near2far), F::Array{ComplexF64,2}, fgs::Vector{Tuple{Array{ComplexF64,2},Array{ComplexF64,2}}}, plan)\n",
    "    efar = near2far(F,fgs,plan)\n",
    "    function near2far_pullback(vec::Array{ComplexF64,2})\n",
    "        dF = @thunk(ffp(vec, fgs, plan, false))\n",
    "        NoTangent(), dF, ZeroTangent(), ZeroTangent()\n",
    "    end\n",
    "    efar, near2far_pullback\n",
    "end"
   ]
  },
  {
   "cell_type": "code",
   "execution_count": 2,
   "metadata": {},
   "outputs": [
    {
     "data": {
      "text/plain": [
       "Vector{Tuple{Matrix{ComplexF64}, Matrix{ComplexF64}}}\u001b[90m (alias for \u001b[39m\u001b[90mArray{Tuple{Array{Complex{Float64}, 2}, Array{Complex{Float64}, 2}}, 1}\u001b[39m\u001b[90m)\u001b[39m"
      ]
     },
     "metadata": {},
     "output_type": "display_data"
    },
    {
     "name": "stdout",
     "output_type": "stream",
     "text": [
      "  16.912 ms (171 allocations: 108.35 MiB)\n"
     ]
    }
   ],
   "source": [
    "plan = create_2Dffp_plans(500,1);\n",
    "freqs = [0.8,0.9,1.0,1.1,1.2]\n",
    "fgs = [ green2d(500,500,0.7,0.7, freq,1.0,1.0, 1000., plan) for freq in freqs ]\n",
    "display(typeof(fgs))\n",
    "F = rand(ComplexF64,300*300,5)\n",
    "@btime near2far(F,fgs,plan);"
   ]
  },
  {
   "cell_type": "code",
   "execution_count": 20,
   "metadata": {},
   "outputs": [
    {
     "name": "stdout",
     "output_type": "stream",
     "text": [
      "  2.506 s (139 allocations: 4.90 GiB)\n",
      "  2.337 s (201 allocations: 4.90 GiB)\n"
     ]
    }
   ],
   "source": [
    "arr = rand(ComplexF64,5000,5000)\n",
    "fftker = rand(ComplexF64,8000,8000)\n",
    "\n",
    "p1 = create_2Dffp_plans(8000,2); @btime fftconv2d(arr,fftker,p1,true);\n",
    "p1 = create_2Dffp_plans(8000,4); @btime fftconv2d(arr,fftker,p1,true);"
   ]
  }
 ],
 "metadata": {
  "kernelspec": {
   "display_name": "Julia (8 threads) 1.8.5",
   "language": "julia",
   "name": "julia-_8-threads_-1.8"
  },
  "language_info": {
   "file_extension": ".jl",
   "mimetype": "application/julia",
   "name": "julia",
   "version": "1.8.5"
  },
  "orig_nbformat": 4
 },
 "nbformat": 4,
 "nbformat_minor": 2
}
