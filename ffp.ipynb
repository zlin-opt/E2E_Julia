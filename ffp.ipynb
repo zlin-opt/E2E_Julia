{
 "cells": [
  {
   "attachments": {},
   "cell_type": "markdown",
   "metadata": {},
   "source": [
    "import Pkg; Pkg.add(\"FFTW\")\n",
    "import Pkg; Pkg.add(\"PaddedViews\")\n",
    "import Pkg; Pkg.add(\"BenchmarkTools\")"
   ]
  },
  {
   "cell_type": "code",
   "execution_count": 1,
   "metadata": {},
   "outputs": [
    {
     "data": {
      "text/plain": [
       "fftconv2d (generic function with 2 methods)"
      ]
     },
     "execution_count": 1,
     "metadata": {},
     "output_type": "execute_result"
    }
   ],
   "source": [
    "using FFTW\n",
    "using Base.Threads\n",
    "using PaddedViews\n",
    "using BenchmarkTools\n",
    "\n",
    "#try out different fft planners https://docs.juliahub.com/FourierAnalysis/1aWDG/1.0.1/fftw/\n",
    "#also switch to in-place operations at some point\n",
    "function create_2Dffp_plans(n::Int64,nthr::Int64)\n",
    "    FFTW.set_num_threads(nthr)\n",
    "    plan_fwd = plan_fft(rand(ComplexF64, n,n),flags=FFTW.MEASURE)\n",
    "    plan_bwd = plan_ifft(rand(ComplexF64,n,n),flags=FFTW.MEASURE)\n",
    "    (plan_fwd,plan_bwd)\n",
    "end\n",
    "\n",
    "function fftconv2d(arr::Array{ComplexF64,2},fftker::Array{ComplexF64,2},plan_fwd,plan_bwd,fwd::Bool=true)::Array{ComplexF64,2}\n",
    "    narr = size(arr)[1]\n",
    "    nker = size(fftker)[1]\n",
    "    nout = nker - narr\n",
    "    if fwd==true\n",
    "        i1,i2 = 1+narr÷2, narr÷2+nout\n",
    "    else\n",
    "        i1,i2 =   narr÷2, narr÷2+nout-1\n",
    "    end\n",
    "    ifftshift(plan_bwd * (fftker .* (plan_fwd * sym_paddedviews(0.0+im*0.0,arr,fftker)[1])))[i1:i2,i1:i2]\n",
    "end\n",
    "    "
   ]
  },
  {
   "cell_type": "code",
   "execution_count": 2,
   "metadata": {},
   "outputs": [
    {
     "name": "stdout",
     "output_type": "stream",
     "text": [
      "  2.788 s (139 allocations: 4.90 GiB)\n",
      "  2.426 s (194 allocations: 4.90 GiB)\n"
     ]
    }
   ],
   "source": [
    "arr = rand(ComplexF64,5000,5000)\n",
    "fftker = rand(ComplexF64,8000,8000)\n",
    "\n",
    "(p1,p2) = create_2Dffp_plans(8000,2); @btime outarr = fftconv2d(arr,fftker,p1,p2,true);\n",
    "(p1,p2) = create_2Dffp_plans(8000,4); @btime outarr = fftconv2d(arr,fftker,p1,p2,true);"
   ]
  },
  {
   "cell_type": "code",
   "execution_count": null,
   "metadata": {},
   "outputs": [],
   "source": []
  }
 ],
 "metadata": {
  "kernelspec": {
   "display_name": "Julia (8 threads) 1.8.5",
   "language": "julia",
   "name": "julia-_8-threads_-1.8"
  },
  "language_info": {
   "file_extension": ".jl",
   "mimetype": "application/julia",
   "name": "julia",
   "version": "1.8.5"
  },
  "orig_nbformat": 4
 },
 "nbformat": 4,
 "nbformat_minor": 2
}
