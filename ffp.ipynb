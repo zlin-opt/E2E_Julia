{
 "cells": [
  {
   "cell_type": "code",
   "execution_count": 54,
   "metadata": {},
   "outputs": [
    {
     "name": "stderr",
     "output_type": "stream",
     "text": [
      "\u001b[32m\u001b[1m   Resolving\u001b[22m\u001b[39m package versions...\n",
      "\u001b[32m\u001b[1m  No Changes\u001b[22m\u001b[39m to `C:\\Users\\zinli\\.julia\\environments\\v1.8\\Project.toml`\n",
      "\u001b[32m\u001b[1m  No Changes\u001b[22m\u001b[39m to `C:\\Users\\zinli\\.julia\\environments\\v1.8\\Manifest.toml`\n",
      "\u001b[32m\u001b[1m   Resolving\u001b[22m\u001b[39m package versions...\n",
      "\u001b[32m\u001b[1m  No Changes\u001b[22m\u001b[39m to `C:\\Users\\zinli\\.julia\\environments\\v1.8\\Project.toml`\n",
      "\u001b[32m\u001b[1m  No Changes\u001b[22m\u001b[39m to `C:\\Users\\zinli\\.julia\\environments\\v1.8\\Manifest.toml`\n",
      "\u001b[32m\u001b[1m   Resolving\u001b[22m\u001b[39m package versions...\n",
      "\u001b[32m\u001b[1m  No Changes\u001b[22m\u001b[39m to `C:\\Users\\zinli\\.julia\\environments\\v1.8\\Project.toml`\n",
      "\u001b[32m\u001b[1m  No Changes\u001b[22m\u001b[39m to `C:\\Users\\zinli\\.julia\\environments\\v1.8\\Manifest.toml`\n",
      "\u001b[32m\u001b[1m   Resolving\u001b[22m\u001b[39m package versions...\n",
      "\u001b[32m\u001b[1m  No Changes\u001b[22m\u001b[39m to `C:\\Users\\zinli\\.julia\\environments\\v1.8\\Project.toml`\n",
      "\u001b[32m\u001b[1m  No Changes\u001b[22m\u001b[39m to `C:\\Users\\zinli\\.julia\\environments\\v1.8\\Manifest.toml`\n",
      "\u001b[32m\u001b[1m   Resolving\u001b[22m\u001b[39m package versions...\n",
      "\u001b[32m\u001b[1m    Updating\u001b[22m\u001b[39m `C:\\Users\\zinli\\.julia\\environments\\v1.8\\Project.toml`\n",
      " \u001b[90m [d360d2e6] \u001b[39m\u001b[92m+ ChainRulesCore v1.15.7\u001b[39m\n",
      "\u001b[32m\u001b[1m  No Changes\u001b[22m\u001b[39m to `C:\\Users\\zinli\\.julia\\environments\\v1.8\\Manifest.toml`\n"
     ]
    }
   ],
   "source": [
    "import Pkg; \n",
    "Pkg.add(\"FFTW\");\n",
    "Pkg.add(\"PaddedViews\");\n",
    "Pkg.add(\"BenchmarkTools\");\n",
    "Pkg.add(\"ChainRules\");\n",
    "Pkg.add(\"ChainRulesCore\");"
   ]
  },
  {
   "cell_type": "code",
   "execution_count": 57,
   "metadata": {},
   "outputs": [],
   "source": [
    "using FFTW\n",
    "using Base.Threads\n",
    "using PaddedViews\n",
    "using BenchmarkTools\n",
    "using ChainRulesCore\n",
    "\n",
    "#try out different fft planners https://docs.juliahub.com/FourierAnalysis/1aWDG/1.0.1/fftw/\n",
    "#also switch to in-place operations at some point\n",
    "function create_2Dffp_plans(n::Int64,nthr::Int64)\n",
    "    FFTW.set_num_threads(nthr)\n",
    "    plan_fwd = plan_fft(rand(ComplexF64, n,n),flags=FFTW.MEASURE)\n",
    "    plan_bwd = plan_ifft(rand(ComplexF64,n,n),flags=FFTW.MEASURE)\n",
    "    (plan_fwd,plan_bwd)\n",
    "end\n",
    "\n",
    "function fftconv2d(arr::Array{ComplexF64,2},fftker::Array{ComplexF64,2},plan_fwd,plan_bwd,fwd::Bool=true)::Array{ComplexF64,2}\n",
    "    narr = size(arr)[1]\n",
    "    nker = size(fftker)[1]\n",
    "    nout = nker - narr\n",
    "    if fwd==true\n",
    "        i1,i2 = 1+narr÷2, narr÷2+nout\n",
    "    else\n",
    "        i1,i2 =   narr÷2, narr÷2+nout-1\n",
    "    end\n",
    "    ifftshift(plan_bwd * (fftker .* (plan_fwd * sym_paddedviews(0.0+im*0.0,arr,fftker)[1])))[i1:i2,i1:i2]\n",
    "end\n",
    "    \n",
    "function green2d(nx::Int64,ny::Int64, δx::Float64, δy::Float64, freq::Float64, ϵ::Float64,μ::Float64, Dz::Float64, plan)::Tuple{Array{ComplexF64,2},Array{ComplexF64,2}}\n",
    "\n",
    "    ω = 2*π*freq\n",
    "    n = sqrt(ϵ*μ)\n",
    "    k = n*ω\n",
    "    ik = im * k\n",
    "\n",
    "    Lx,Ly = nx*δx, ny*δy\n",
    "    δxy = δx*δy\n",
    "\n",
    "    x = range(-Lx/2,Lx/2-δx, nx)'\n",
    "    y = range(-Ly/2,Ly/2-δy, ny)\n",
    "\n",
    "    gz = @. Dz * (-1 + ik * sqrt(x^2 + y^2 + Dz^2)) * cis(k*sqrt(x^2 + y^2 + Dz^2))/(4*π*sqrt(x^2 + y^2 + Dz^2)^3) * δxy * (-μ/ϵ)\n",
    "\n",
    "    fgz = plan * gz\n",
    "    fgzT = plan * reverse(gz)\n",
    "\n",
    "    (fgz,fgzT)\n",
    "\n",
    "end\n",
    "\n",
    "# Field matrix F has the format (unit cells, frequencies)\n",
    "function ffp(F::Array{ComplexF64,2}, fgs::Vector{Tuple{Array{ComplexF64,2},Array{ComplexF64,2}}}, plan_fwd, plan_bwd, fwd::Bool)::Array{ComplexF64,2}\n",
    "    \n",
    "    narr = Int64(sqrt(size(F)[1]))\n",
    "    nker = size(fgs)[1]\n",
    "    nout = nker - narr\n",
    "    nfreqs = size(F)[2]\n",
    "\n",
    "    out = zeros(ComplexF64, nout*nout, nfreqs)\n",
    "    Threads.@threads for i in 1:nfreqs\n",
    "        arr = reshape(F[:,i],narr,narr)\n",
    "        if fwd==true\n",
    "            fftker = fgs[i][1]\n",
    "        else\n",
    "            fftker = fgs[i][2]\n",
    "        out[:,i] = vec(fftconv2d(arr,fftker, plan_fwd,plan_bwd, fwd))\n",
    "        end\n",
    "    end\n",
    "    out\n",
    "end\n",
    "\n",
    "function near2far(F::Array{ComplexF64,2}, fgs::Vector{Tuple{Array{ComplexF64,2},Array{ComplexF64,2}}}, plan_fwd, plan_bwd)::Array{ComplexF64,2}\n",
    "    ffp(F,fgs,plan_fwd,plan_bwd,true)\n",
    "end\n",
    "    \n",
    "\n",
    "function ChainRulesCore.rrule(::typeof(near2far), F::Array{ComplexF64,2}, fgs::Vector{Tuple{Array{ComplexF64,2},Array{ComplexF64,2}}}, plan_fwd, plan_bwd)\n",
    "    efar = near2far(F,fgs,plan_fwd,plan_bwd)\n",
    "    function near2far_pullback(vec::Array{ComplexF64,2})\n",
    "        dF = @thunk(ffp(vec, fgs, plan_fwd, plan_bwd, false))\n",
    "        NoTangent(), dF, ZeroTangent(), ZeroTangent(), ZeroTangent()\n",
    "    end\n",
    "    efar, near2far_pullback\n",
    "end"
   ]
  },
  {
   "cell_type": "code",
   "execution_count": 42,
   "metadata": {},
   "outputs": [
    {
     "name": "stdout",
     "output_type": "stream",
     "text": [
      "  11.210 ms (9 allocations: 15.26 MiB)\n"
     ]
    },
    {
     "data": {
      "text/plain": [
       "500×500 Matrix{ComplexF64}:\n",
       " -0.522172+0.0482458im     0.500499-0.0138513im   …     0.500499-0.0138513im\n",
       "  0.500499-0.0138513im    -0.475831-0.0246998im        -0.475831-0.0246998im\n",
       " -0.516946+0.100563im      0.499182-0.0639106im         0.499182-0.0639106im\n",
       "  0.482015-0.11712im      -0.465475+0.0746756im        -0.465475+0.0746756im\n",
       " -0.469795+0.250476im      0.464862-0.209647im          0.464862-0.209647im\n",
       "  0.384693-0.301741im     -0.385906+0.256922im    …    -0.385906+0.256922im\n",
       " -0.299333+0.446769im       0.31659-0.408237im           0.31659-0.408237im\n",
       "  0.123852-0.469806im     -0.149657+0.435093im         -0.149657+0.435093im\n",
       " 0.0502312+0.532301im   -0.00998056-0.514344im       -0.00998056-0.514344im\n",
       " -0.280429-0.410333im      0.239471+0.407105im          0.239471+0.407105im\n",
       "  0.431096+0.281981im     -0.390649-0.303037im    …    -0.390649-0.303037im\n",
       " -0.521939+0.0303823im     0.501279+0.00417598im        0.501279+0.00417598im\n",
       "  0.410391-0.264421im     -0.410204+0.219757im         -0.410204+0.219757im\n",
       "          ⋮                                       ⋱  \n",
       "  0.410391-0.264421im     -0.410204+0.219757im         -0.410204+0.219757im\n",
       " -0.521939+0.0303823im     0.501279+0.00417598im        0.501279+0.00417598im\n",
       "  0.431096+0.281981im     -0.390649-0.303037im    …    -0.390649-0.303037im\n",
       " -0.280429-0.410333im      0.239471+0.407105im          0.239471+0.407105im\n",
       " 0.0502312+0.532301im   -0.00998056-0.514344im       -0.00998056-0.514344im\n",
       "  0.123852-0.469806im     -0.149657+0.435093im         -0.149657+0.435093im\n",
       " -0.299333+0.446769im       0.31659-0.408237im           0.31659-0.408237im\n",
       "  0.384693-0.301741im     -0.385906+0.256922im    …    -0.385906+0.256922im\n",
       " -0.469795+0.250476im      0.464862-0.209647im          0.464862-0.209647im\n",
       "  0.482015-0.11712im      -0.465475+0.0746756im        -0.465475+0.0746756im\n",
       " -0.516946+0.100563im      0.499182-0.0639106im         0.499182-0.0639106im\n",
       "  0.500499-0.0138513im    -0.475831-0.0246998im        -0.475831-0.0246998im"
      ]
     },
     "metadata": {},
     "output_type": "display_data"
    },
    {
     "data": {
      "text/plain": [
       "Matrix{ComplexF64}\u001b[90m (alias for \u001b[39m\u001b[90mArray{Complex{Float64}, 2}\u001b[39m\u001b[90m)\u001b[39m"
      ]
     },
     "execution_count": 42,
     "metadata": {},
     "output_type": "execute_result"
    }
   ],
   "source": [
    "(p1,p2) = create_2Dffp_plans(500,1);\n",
    "@btime (fgz,fgzT) = green2d(500,500,0.7,0.7, 1.0,1.0,1.0, 1000., p1)\n",
    "display(fgz)\n",
    "typeof(fgz)"
   ]
  },
  {
   "cell_type": "code",
   "execution_count": 2,
   "metadata": {},
   "outputs": [
    {
     "name": "stdout",
     "output_type": "stream",
     "text": [
      "  2.788 s (139 allocations: 4.90 GiB)\n",
      "  2.426 s (194 allocations: 4.90 GiB)\n"
     ]
    }
   ],
   "source": [
    "arr = rand(ComplexF64,5000,5000)\n",
    "fftker = rand(ComplexF64,8000,8000)\n",
    "\n",
    "(p1,p2) = create_2Dffp_plans(8000,2); @btime outarr = fftconv2d(arr,fftker,p1,p2,true);\n",
    "(p1,p2) = create_2Dffp_plans(8000,4); @btime outarr = fftconv2d(arr,fftker,p1,p2,true);"
   ]
  },
  {
   "cell_type": "code",
   "execution_count": 3,
   "metadata": {},
   "outputs": [
    {
     "data": {
      "text/plain": [
       "FFTW.cFFTWPlan{ComplexF64, -1, false, 2, UnitRange{Int64}}"
      ]
     },
     "execution_count": 3,
     "metadata": {},
     "output_type": "execute_result"
    }
   ],
   "source": [
    "typeof(p1)"
   ]
  },
  {
   "cell_type": "code",
   "execution_count": 37,
   "metadata": {},
   "outputs": [
    {
     "data": {
      "text/plain": [
       "1×3 adjoint(::StepRangeLen{Float64, Base.TwicePrecision{Float64}, Base.TwicePrecision{Float64}, Int64}) with eltype Float64:\n",
       " 1.0  2.0  3.0"
      ]
     },
     "metadata": {},
     "output_type": "display_data"
    },
    {
     "data": {
      "text/plain": [
       "1.0:1.0:3.0"
      ]
     },
     "metadata": {},
     "output_type": "display_data"
    },
    {
     "data": {
      "text/plain": [
       "3×3 Matrix{Float64}:\n",
       " 1.73205  2.44949  3.31662\n",
       " 2.44949  3.0      3.74166\n",
       " 3.31662  3.74166  4.3589"
      ]
     },
     "execution_count": 37,
     "metadata": {},
     "output_type": "execute_result"
    }
   ],
   "source": [
    "x = range(1,3,3)'\n",
    "y = range(1,3,3)\n",
    "display(x)\n",
    "display(y)\n",
    "@. sqrt(x^2 + y^2 + 1)"
   ]
  },
  {
   "cell_type": "code",
   "execution_count": 48,
   "metadata": {},
   "outputs": [
    {
     "data": {
      "text/plain": [
       "3"
      ]
     },
     "execution_count": 48,
     "metadata": {},
     "output_type": "execute_result"
    }
   ],
   "source": [
    "x=9\n",
    "Int64(sqrt(x))"
   ]
  },
  {
   "cell_type": "code",
   "execution_count": null,
   "metadata": {},
   "outputs": [],
   "source": []
  }
 ],
 "metadata": {
  "kernelspec": {
   "display_name": "Julia (8 threads) 1.8.5",
   "language": "julia",
   "name": "julia-_8-threads_-1.8"
  },
  "language_info": {
   "file_extension": ".jl",
   "mimetype": "application/julia",
   "name": "julia",
   "version": "1.8.5"
  },
  "orig_nbformat": 4
 },
 "nbformat": 4,
 "nbformat_minor": 2
}
