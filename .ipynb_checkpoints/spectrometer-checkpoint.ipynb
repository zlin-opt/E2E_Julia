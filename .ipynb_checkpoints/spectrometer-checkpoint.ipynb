{
 "cells": [
  {
   "cell_type": "code",
   "execution_count": 1,
   "metadata": {},
   "outputs": [
    {
     "ename": "LoadError",
     "evalue": "ArgumentError: Package ChainRulesCore not found in current path:\n- Run `import Pkg; Pkg.add(\"ChainRulesCore\")` to install the ChainRulesCore package.\n",
     "output_type": "error",
     "traceback": [
      "ArgumentError: Package ChainRulesCore not found in current path:\n- Run `import Pkg; Pkg.add(\"ChainRulesCore\")` to install the ChainRulesCore package.\n",
      "",
      "Stacktrace:",
      " [1] require(into::Module, mod::Symbol)",
      "   @ Base .\\loading.jl:967",
      " [2] eval",
      "   @ .\\boot.jl:373 [inlined]",
      " [3] include_string(mapexpr::typeof(REPL.softscope), mod::Module, code::String, filename::String)",
      "   @ Base .\\loading.jl:1196"
     ]
    }
   ],
   "source": [
    "using LinearAlgebra\n",
    "using Zygote\n",
    "using ChainRulesCore\n",
    "using Base.Threads\n",
    "\n",
    "function F2G(F,nintg)\n",
    "    \n",
    "    ncells=Int64(sqrt(size(F)[1]))\n",
    "    npix = ncells÷nintg\n",
    "    nfreqs=size(F)[2]\n",
    "    @views sum(reshape(abs2.(F),(nintg,npix,nintg,npix,nfreqs)),dims=(1,3))[1,:,1,:,:]\n",
    "\n",
    "end\n",
    "\n",
    "function G2mse(G,W,u,η)\n",
    "    nλ = size(W)[1]\n",
    "    m = size(u)÷nλ\n",
    "    norm(W*(G*u + η) - sum(reshape(u,(m,nλ)),dims=1)[1,:])\n",
    "end\n",
    "\n",
    "function loss(G,W,uη)\n",
    "    println(\"Don't call me. I do nothing.\")\n",
    "    Nothing\n",
    "end\n",
    "\n",
    "function ChainRulesCore.rrule(::typeof(loss), G,W,uη)\n",
    "    \n",
    "    ret = 0.0\n",
    "    n = size(uη)[1]\n",
    "    function loss_pullback(vec)\n",
    "        ∂G = zeros(similar(G))\n",
    "        ∂W = zeros(similar(W))\n",
    "        Threads.@threads for (u,η) in uη\n",
    "            mse,back = Zygote.pullback(x,y->G2mse(x,y,u,η),G,W)\n",
    "            ret = ret + mse\n",
    "            ∂G .+= back(1)[1]\n",
    "            ∂W .+= back(1)[2]\n",
    "        end\n",
    "        NoTangent(), ∂G/n, ∂W/n, ZeroTangent()\n",
    "    end\n",
    "    ret/n, loss_pullback\n",
    "end\n",
    "\n",
    "\n",
    "\n"
   ]
  },
  {
   "cell_type": "code",
   "execution_count": 2,
   "metadata": {},
   "outputs": [
    {
     "name": "stderr",
     "output_type": "stream",
     "text": [
      "\u001b[32m\u001b[1m    Updating\u001b[22m\u001b[39m registry at `C:\\Users\\Zin Lin\\.julia\\registries\\General.toml`\n",
      "\u001b[32m\u001b[1m   Resolving\u001b[22m\u001b[39m package versions...\n",
      "\u001b[32m\u001b[1m    Updating\u001b[22m\u001b[39m `C:\\Users\\Zin Lin\\.julia\\environments\\v1.7\\Project.toml`\n",
      " \u001b[90m [d360d2e6] \u001b[39m\u001b[92m+ ChainRulesCore v1.15.7\u001b[39m\n",
      "\u001b[32m\u001b[1m  No Changes\u001b[22m\u001b[39m to `C:\\Users\\Zin Lin\\.julia\\environments\\v1.7\\Manifest.toml`\n"
     ]
    }
   ],
   "source": [
    "import Pkg; Pkg.add(\"ChainRulesCore\")"
   ]
  },
  {
   "cell_type": "code",
   "execution_count": 31,
   "metadata": {},
   "outputs": [
    {
     "data": {
      "text/plain": [
       "6×6 reshape(::StepRange{Int64, Int64}, 6, 6) with eltype Int64:\n",
       " 1   7  13  19  25  31\n",
       " 2   8  14  20  26  32\n",
       " 3   9  15  21  27  33\n",
       " 4  10  16  22  28  34\n",
       " 5  11  17  23  29  35\n",
       " 6  12  18  24  30  36"
      ]
     },
     "metadata": {},
     "output_type": "display_data"
    },
    {
     "data": {
      "text/plain": [
       "6×6 reshape(::StepRange{Int64, Int64}, 6, 6) with eltype Int64:\n",
       " 1   7  13  19  25  31\n",
       " 2   8  14  20  26  32\n",
       " 3   9  15  21  27  33\n",
       " 4  10  16  22  28  34\n",
       " 5  11  17  23  29  35\n",
       " 6  12  18  24  30  36"
      ]
     },
     "metadata": {},
     "output_type": "display_data"
    },
    {
     "data": {
      "text/plain": [
       "3×3 Matrix{Int64}:\n",
       " 18  66  114\n",
       " 26  74  122\n",
       " 34  82  130"
      ]
     },
     "metadata": {},
     "output_type": "display_data"
    },
    {
     "data": {
      "text/plain": [
       "(36,)"
      ]
     },
     "metadata": {},
     "output_type": "display_data"
    },
    {
     "data": {
      "text/plain": [
       "3×3 Matrix{Int64}:\n",
       " 18  66  114\n",
       " 26  74  122\n",
       " 34  82  130"
      ]
     },
     "metadata": {},
     "output_type": "display_data"
    },
    {
     "data": {
      "text/plain": [
       "1:1:36"
      ]
     },
     "metadata": {},
     "output_type": "display_data"
    },
    {
     "data": {
      "text/plain": [
       "12-element Vector{Int64}:\n",
       "   6\n",
       "  15\n",
       "  24\n",
       "  33\n",
       "  42\n",
       "  51\n",
       "  60\n",
       "  69\n",
       "  78\n",
       "  87\n",
       "  96\n",
       " 105"
      ]
     },
     "metadata": {},
     "output_type": "display_data"
    }
   ],
   "source": [
    "a=reshape(1:1:36,(6,6))\n",
    "display(a)\n",
    "display(reshape(vec(a),(6,6)))\n",
    "display(sum(reshape(a,(2,3,2,3)),dims=(1,3))[1,:,1,:])\n",
    "b = vec(a)\n",
    "display(size(b))\n",
    "display(sum(reshape(b,(2,3,2,3)),dims=(1,3))[1,:,1,:])\n",
    "display(b)\n",
    "display(sum(reshape(b,(3,12)),dims=1)[1,:])"
   ]
  },
  {
   "cell_type": "code",
   "execution_count": 29,
   "metadata": {},
   "outputs": [
    {
     "data": {
      "text/plain": [
       "([0.6120183608262413, 1.9040571225705285], [3.6721101649574477, 25.704771154702133])"
      ]
     },
     "execution_count": 29,
     "metadata": {},
     "output_type": "execute_result"
    }
   ],
   "source": [
    "function f(x,y)\n",
    "    norm(x.^2 .+ y.^3)\n",
    "end\n",
    "f([1,1],[2,3])\n",
    "Zygote.gradient(f,[1,1],[2,3])"
   ]
  },
  {
   "cell_type": "code",
   "execution_count": null,
   "metadata": {},
   "outputs": [],
   "source": []
  }
 ],
 "metadata": {
  "kernelspec": {
   "display_name": "Julia 16 Threads 1.7.2",
   "language": "julia",
   "name": "julia-16-threads-1.7"
  },
  "language_info": {
   "file_extension": ".jl",
   "mimetype": "application/julia",
   "name": "julia",
   "version": "1.7.2"
  }
 },
 "nbformat": 4,
 "nbformat_minor": 2
}
