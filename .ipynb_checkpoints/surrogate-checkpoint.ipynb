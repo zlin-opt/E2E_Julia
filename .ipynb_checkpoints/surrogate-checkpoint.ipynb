{
 "cells": [
  {
   "cell_type": "code",
   "execution_count": 5,
   "id": "e7738378",
   "metadata": {},
   "outputs": [
    {
     "name": "stderr",
     "output_type": "stream",
     "text": [
      "\u001b[32m\u001b[1m   Resolving\u001b[22m\u001b[39m package versions...\n",
      "\u001b[32m\u001b[1m  No Changes\u001b[22m\u001b[39m to `C:\\Users\\Zin Lin\\.julia\\environments\\v1.7\\Project.toml`\n",
      "\u001b[32m\u001b[1m  No Changes\u001b[22m\u001b[39m to `C:\\Users\\Zin Lin\\.julia\\environments\\v1.7\\Manifest.toml`\n",
      "\u001b[32m\u001b[1m   Resolving\u001b[22m\u001b[39m package versions...\n",
      "\u001b[32m\u001b[1m  No Changes\u001b[22m\u001b[39m to `C:\\Users\\Zin Lin\\.julia\\environments\\v1.7\\Project.toml`\n",
      "\u001b[32m\u001b[1m  No Changes\u001b[22m\u001b[39m to `C:\\Users\\Zin Lin\\.julia\\environments\\v1.7\\Manifest.toml`\n",
      "\u001b[32m\u001b[1m   Resolving\u001b[22m\u001b[39m package versions...\n",
      "\u001b[32m\u001b[1m  No Changes\u001b[22m\u001b[39m to `C:\\Users\\Zin Lin\\.julia\\environments\\v1.7\\Project.toml`\n",
      "\u001b[32m\u001b[1m  No Changes\u001b[22m\u001b[39m to `C:\\Users\\Zin Lin\\.julia\\environments\\v1.7\\Manifest.toml`\n",
      "\u001b[32m\u001b[1m   Resolving\u001b[22m\u001b[39m package versions...\n",
      "\u001b[32m\u001b[1m  No Changes\u001b[22m\u001b[39m to `C:\\Users\\Zin Lin\\.julia\\environments\\v1.7\\Project.toml`\n",
      "\u001b[32m\u001b[1m  No Changes\u001b[22m\u001b[39m to `C:\\Users\\Zin Lin\\.julia\\environments\\v1.7\\Manifest.toml`\n",
      "\u001b[32m\u001b[1m   Resolving\u001b[22m\u001b[39m package versions...\n",
      "\u001b[32m\u001b[1m   Installed\u001b[22m\u001b[39m BenchmarkTools ─ v1.3.2\n",
      "\u001b[32m\u001b[1m    Updating\u001b[22m\u001b[39m `C:\\Users\\Zin Lin\\.julia\\environments\\v1.7\\Project.toml`\n",
      " \u001b[90m [6e4b80f9] \u001b[39m\u001b[92m+ BenchmarkTools v1.3.2\u001b[39m\n",
      "\u001b[32m\u001b[1m    Updating\u001b[22m\u001b[39m `C:\\Users\\Zin Lin\\.julia\\environments\\v1.7\\Manifest.toml`\n",
      " \u001b[90m [6e4b80f9] \u001b[39m\u001b[92m+ BenchmarkTools v1.3.2\u001b[39m\n",
      "\u001b[32m\u001b[1mPrecompiling\u001b[22m\u001b[39m project...\n",
      "\u001b[32m  ✓ \u001b[39mBenchmarkTools\n",
      "  1 dependency successfully precompiled in 1 seconds (120 already precompiled)\n"
     ]
    }
   ],
   "source": [
    "import Pkg; \n",
    "Pkg.add(\"FastChebInterp\");\n",
    "Pkg.add(\"ThreadsX\");\n",
    "Pkg.add(\"Zygote\");\n",
    "Pkg.add(\"Memoize\");\n",
    "Pkg.add(\"BenchmarkTools\")"
   ]
  },
  {
   "cell_type": "code",
   "execution_count": 4,
   "id": "1d696a08",
   "metadata": {},
   "outputs": [
    {
     "ename": "LoadError",
     "evalue": "ArgumentError: Package BenchmarkTools not found in current path:\n- Run `import Pkg; Pkg.add(\"BenchmarkTools\")` to install the BenchmarkTools package.\n",
     "output_type": "error",
     "traceback": [
      "ArgumentError: Package BenchmarkTools not found in current path:\n- Run `import Pkg; Pkg.add(\"BenchmarkTools\")` to install the BenchmarkTools package.\n",
      "",
      "Stacktrace:",
      " [1] require(into::Module, mod::Symbol)",
      "   @ Base .\\loading.jl:967",
      " [2] eval",
      "   @ .\\boot.jl:373 [inlined]",
      " [3] include_string(mapexpr::typeof(REPL.softscope), mod::Module, code::String, filename::String)",
      "   @ Base .\\loading.jl:1196"
     ]
    }
   ],
   "source": [
    "using DelimitedFiles\n",
    "using FastChebInterp\n",
    "using ThreadsX\n",
    "using Base.Threads\n",
    "using Zygote\n",
    "using BenchmarkTools\n",
    "using Memoize\n",
    "\n",
    "const cheb = FastChebInterp.ChebPoly\n",
    "\n",
    "\"\"\"\n",
    "    getmodel\n",
    "\n",
    "Generates a chebyshev polynomial interpolated from the datafile. \n",
    "The latter must be in the format ipt, DoF, Re(t[freq1]), Im(t[freq2]) ... \n",
    "In other words, the dimensions of the datafile must be (order+1,2+2*nfreqs)\n",
    "\"\"\"\n",
    "function getmodel(lb,ub,filename)\n",
    "    dat = readdlm(filename,' ',Float64,'\\n')\n",
    "    dat = dat[:,3:end]'\n",
    "    dat = [dat[:,i] for i in 1:size(dat,2)]\n",
    "    model = chebinterp(dat,lb,ub)\n",
    "end\n",
    "\n",
    "\"\"\"\n",
    "    eval2c!(F,∂F, model,p)\n",
    "\n",
    "In-place multi-threaded evaluation of meta-atom transmission coefficients for multiple frequencies using the chebyshev model. \n",
    "\n",
    "F and ∂F must be pre-allocated as\n",
    " F = Array{ComplexF64,2}(undef,#unit cells,#freqs)\n",
    "∂F = Array{ComplexF64,2}(undef,#unit cells,#freqs)\n",
    "\"\"\"\n",
    "function eval2c!(F,∂F, model::cheb,p::Vector{Float64})\n",
    "    ndof = size(p)[1]\n",
    "    Threads.@threads for i in 1:ndof\n",
    "        @inbounds t,∂t = chebjacobian(model,p[i])\n",
    "        @inbounds @views @.  F[i,:] = complex( t[1:2:end], t[2:2:end])\n",
    "        @inbounds @views @. ∂F[i,:] = complex(∂t[1:2:end],∂t[2:2:end])\n",
    "    end\n",
    "end\n",
    "\n",
    "\"\"\"\n",
    "Explanation: for f(z=x+iy) ∈ ℜ, Zygote returns df = ∂f/∂x + i ∂f/∂y \n",
    "The Wirtinger derivative is ∂f/∂z = 1/2 (∂f/∂x - i ∂f/∂y) = 1/2 conj(df)\n",
    "The chain rule is ∂f/∂p = ∂f/∂z ∂z/∂p + ∂f/∂z' ∂z'/∂p = 2 real( ∂f/∂z ∂z/∂p ) = real( conj(df) ∂z/∂p ) \n",
    "Gradient vector gdat must be pre-allocated as\n",
    "gdat = Vector{Float64}(undef,#unit cells)\n",
    "\"\"\"\n",
    "function end2end!(gdat, F,∂F, model::cheb, p::Vector{Float64}, getF!::Function, f::Function, fdat::Any)\n",
    "    getF!(F,∂F, model,p)\n",
    "    ret,back = Zygote.pullback(ξ->f(ξ,fdat),F)\n",
    "    gdat[:] .= real.(sum(conj.(back(1)[1]) .* ∂F, dims=2))[:,1]\n",
    "    return ret\n",
    "end\n",
    "\n",
    "\n",
    "# setup(;ncells::Int64=3000,npix::Int64=500,nintg::Int64=5,nspatl::Int64=120,\n",
    "#        Dz::Float64=5000, freqs::Vector{Float64}=[1.2,1.1,1.0,0.9,0.8],\n",
    "#        lb::Float64=0.11,ub::Float64=0.68,\n",
    "#        filename::String=\"alldat_5wavs.dat\", \n",
    "#        kwargs...)"
   ]
  },
  {
   "cell_type": "code",
   "execution_count": 88,
   "id": "dee36845",
   "metadata": {},
   "outputs": [
    {
     "name": "stdout",
     "output_type": "stream",
     "text": [
      "  11.287 s (100 allocations: 6.81 KiB)\n",
      "  11.930 s (141 allocations: 5.14 GiB)\n"
     ]
    },
    {
     "data": {
      "text/plain": [
       "-321376.2157448246"
      ]
     },
     "execution_count": 88,
     "metadata": {},
     "output_type": "execute_result"
    }
   ],
   "source": [
    "lb,ub=0.11,0.68\n",
    "filename=\"alldat_5wavs.dat\"\n",
    "model = getmodel(lb,ub,filename)\n",
    "ncells = 10000000\n",
    "p = rand(lb:0.01/ncells:ub,ncells)\n",
    "F = Array{ComplexF64,2}(undef,ncells,5)\n",
    "∂F = Array{ComplexF64,2}(undef,ncells,5)\n",
    "@btime eval2c!($F,$∂F, $model, $p);\n",
    "\n",
    "function f(F,fdat)\n",
    "    sum(real.(F).*imag.(F).^2)\n",
    "end\n",
    "\n",
    "gdat = Vector{Float64}(undef,ncells)\n",
    "@btime end2end!($gdat, $F,$∂F, $model,$p, $eval2c!, $f, Nothing)"
   ]
  },
  {
   "cell_type": "code",
   "execution_count": 9,
   "id": "9125ba27",
   "metadata": {},
   "outputs": [
    {
     "name": "stderr",
     "output_type": "stream",
     "text": [
      "\u001b[32m\u001b[1m    Updating\u001b[22m\u001b[39m registry at `C:\\Users\\zinli\\.julia\\registries\\General.toml`\n",
      "\u001b[32m\u001b[1m   Resolving\u001b[22m\u001b[39m package versions...\n",
      "\u001b[32m\u001b[1m   Installed\u001b[22m\u001b[39m Richardson ──────── v1.4.0\n",
      "\u001b[32m\u001b[1m   Installed\u001b[22m\u001b[39m FiniteDifferences ─ v0.12.26\n",
      "\u001b[32m\u001b[1m    Updating\u001b[22m\u001b[39m `C:\\Users\\zinli\\.julia\\environments\\v1.8\\Project.toml`\n",
      " \u001b[90m [26cc04aa] \u001b[39m\u001b[92m+ FiniteDifferences v0.12.26\u001b[39m\n",
      "\u001b[32m\u001b[1m    Updating\u001b[22m\u001b[39m `C:\\Users\\zinli\\.julia\\environments\\v1.8\\Manifest.toml`\n",
      " \u001b[90m [26cc04aa] \u001b[39m\u001b[92m+ FiniteDifferences v0.12.26\u001b[39m\n",
      " \u001b[90m [708f8203] \u001b[39m\u001b[92m+ Richardson v1.4.0\u001b[39m\n",
      "\u001b[32m\u001b[1mPrecompiling\u001b[22m\u001b[39m project...\n",
      "\u001b[32m  ✓ \u001b[39m\u001b[90mRichardson\u001b[39m\n",
      "\u001b[32m  ✓ \u001b[39mFiniteDifferences\n",
      "  2 dependencies successfully precompiled in 4 seconds. 82 already precompiled.\n"
     ]
    }
   ],
   "source": [
    "import Pkg; Pkg.add(\"FiniteDifferences\")"
   ]
  },
  {
   "cell_type": "code",
   "execution_count": 114,
   "id": "9821b94b",
   "metadata": {},
   "outputs": [
    {
     "data": {
      "text/plain": [
       "-2.4537164695635994e-5"
      ]
     },
     "execution_count": 114,
     "metadata": {},
     "output_type": "execute_result"
    }
   ],
   "source": [
    "using FiniteDifferences\n",
    "using LinearAlgebra\n",
    "lb,ub=0.11,0.68\n",
    "filename=\"alldat_5wavs.dat\"\n",
    "model = getmodel(lb,ub,filename)\n",
    "ncells = 100\n",
    "p = rand(1.2*lb:0.01/ncells:0.8*ub,ncells)\n",
    "F = Array{ComplexF64,2}(undef,ncells,5)\n",
    "∂F = Array{ComplexF64,2}(undef,ncells,5)\n",
    "eval2c!(F,∂F, model, p);\n",
    "gdat = Vector{Float64}(undef,ncells)\n",
    "function f2(F,fdat)\n",
    "    sum(real.(F).*imag.(F).^2)\n",
    "end\n",
    "end2end!(gdat, F,∂F, model,p, eval2c!, f2, Nothing)\n",
    "tmp(x) = end2end!(gdat, F,∂F, model,x, eval2c!, f2, Nothing) \n",
    "Δ = grad(central_fdm(5,1), tmp, p)[1]\n",
    "maximum( abs.(Δ .- gdat)[1:end-1] )/mean(Δ)"
   ]
  },
  {
   "cell_type": "code",
   "execution_count": 91,
   "id": "1b3b762b",
   "metadata": {},
   "outputs": [
    {
     "data": {
      "text/plain": [
       "3×3 Matrix{Float64}:\n",
       " 0.5115    0.107716  0.761931\n",
       " 0.436962  0.737397  0.0375001\n",
       " 0.709564  0.873515  0.116737"
      ]
     },
     "metadata": {},
     "output_type": "display_data"
    },
    {
     "data": {
      "text/plain": [
       "3-element Vector{Float64}:\n",
       " 1.3811471203333312\n",
       " 1.2118592808459214\n",
       " 1.6998166289301033"
      ]
     },
     "execution_count": 91,
     "metadata": {},
     "output_type": "execute_result"
    }
   ],
   "source": [
    "a = rand(3,3)\n",
    "display(a)\n",
    "sum(a,dims=2)[:,1]"
   ]
  },
  {
   "cell_type": "code",
   "execution_count": null,
   "id": "2b189e29",
   "metadata": {},
   "outputs": [],
   "source": []
  }
 ],
 "metadata": {
  "kernelspec": {
   "display_name": "Julia 16 Threads 1.7.2",
   "language": "julia",
   "name": "julia-16-threads-1.7"
  },
  "language_info": {
   "file_extension": ".jl",
   "mimetype": "application/julia",
   "name": "julia",
   "version": "1.7.2"
  }
 },
 "nbformat": 4,
 "nbformat_minor": 5
}
