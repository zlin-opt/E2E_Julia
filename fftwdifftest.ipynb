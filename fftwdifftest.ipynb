{
 "cells": [
  {
   "cell_type": "code",
   "execution_count": 1,
   "metadata": {},
   "outputs": [
    {
     "data": {
      "text/plain": [
       "-14.228329446946747"
      ]
     },
     "metadata": {},
     "output_type": "display_data"
    },
    {
     "data": {
      "text/plain": [
       "4×4 Matrix{Float64}:\n",
       " 3.24888  3.82009  2.20408  2.91033\n",
       " 2.23594  3.21013  3.644    3.67196\n",
       " 3.03525  2.78591  3.92903  2.86522\n",
       " 3.36648  2.11777  3.77078  4.14255"
      ]
     },
     "metadata": {},
     "output_type": "display_data"
    },
    {
     "data": {
      "text/plain": [
       "4×4 Matrix{Float64}:\n",
       " 3.24888  3.82009  2.20408  2.91033\n",
       " 2.23594  3.21013  3.644    3.67196\n",
       " 3.03525  2.78591  3.92903  2.86522\n",
       " 3.36648  2.11777  3.77078  4.14255"
      ]
     },
     "metadata": {},
     "output_type": "display_data"
    },
    {
     "data": {
      "text/plain": [
       "2.2307453332893926e-10"
      ]
     },
     "metadata": {},
     "output_type": "display_data"
    }
   ],
   "source": [
    "using FFTW\n",
    "using Zygote\n",
    "using FiniteDifferences\n",
    "using ChainRulesCore\n",
    "using Base.Threads\n",
    "using BenchmarkTools\n",
    "\n",
    "n=4\n",
    "plan = plan_rfft(rand(n,n),flags=FFTW.MEASURE)\n",
    "function test(x,y,p)\n",
    "    sum( sin.(p \\ ((p*x) .* (p*y))).^3 )\n",
    "end\n",
    "x = rand(n,n)\n",
    "#x .= x.+conj.(x)\n",
    "y = rand(n,n)\n",
    "#y .= y.+conj.(y)\n",
    "display(test(x,y,plan))\n",
    "tmp = a->test(a,y,plan)\n",
    "gdat = Zygote.gradient(tmp,x)[1]\n",
    "Δ = grad(central_fdm(3,1), tmp, x)[1]\n",
    "display(gdat)\n",
    "display(Δ)\n",
    "display(maximum(abs.(vec(Δ) .- vec(gdat))[1:end-1])/mean(abs.(vec(Δ))))"
   ]
  },
  {
   "cell_type": "code",
   "execution_count": 65,
   "metadata": {},
   "outputs": [
    {
     "data": {
      "text/plain": [
       "1.4730969829661945e-12"
      ]
     },
     "metadata": {},
     "output_type": "display_data"
    }
   ],
   "source": [
    "using PaddedViews\n",
    "function vGTGu(g,x,y,p,nout)\n",
    "    Gu = ifftshift( p \\ ((p * g) .* (p * x)) )[1:nout]\n",
    "    Gv = ifftshift( p \\ ((p * g) .* (p * y)) )[1:nout]\n",
    "    sum(Gv .* Gu)\n",
    "end\n",
    "\n",
    "g = rand(16)\n",
    "u = rand(4)\n",
    "v = rand(4)\n",
    "\n",
    "nout = size(g)[1] - size(u)[1]\n",
    "x = sym_paddedviews(0,u,g)[1]\n",
    "y = sym_paddedviews(0,v,g)[1]\n",
    "plan = plan_rfft(g,flags=FFTW.MEASURE)\n",
    "\n",
    "tmp = a -> vGTGu(a,x,y,plan,nout)\n",
    "gdat = Zygote.gradient(tmp,g)[1]\n",
    "Δ = grad(central_fdm(3,1), tmp,g)[1]\n",
    "display(maximum(abs.(vec(Δ) .- vec(gdat))[1:end-1])/mean(abs.(vec(Δ))))\n",
    "    "
   ]
  },
  {
   "cell_type": "code",
   "execution_count": 54,
   "metadata": {},
   "outputs": [
    {
     "data": {
      "text/plain": [
       "3-element Vector{Matrix{Float64}}:\n",
       " [0.0 0.0]\n",
       " [1.0 2.0]\n",
       " [0.0 0.0]"
      ]
     },
     "execution_count": 54,
     "metadata": {},
     "output_type": "execute_result"
    }
   ],
   "source": [
    "a = [zeros((1,2)),[1 2],zeros((1,2))]"
   ]
  },
  {
   "cell_type": "code",
   "execution_count": 150,
   "metadata": {},
   "outputs": [
    {
     "data": {
      "text/plain": [
       "2.3303991414094447e-11"
      ]
     },
     "metadata": {},
     "output_type": "display_data"
    },
    {
     "data": {
      "text/plain": [
       "10×10 Matrix{Float64}:\n",
       "  6.02058      11.5956       19.4282       …  13.9919       -4.33681e-16\n",
       "  7.48283      20.2727       40.5638          23.0092        2.93033e-15\n",
       " 15.849        36.9233       62.1111          29.4595        7.64032e-15\n",
       " 24.6664       55.481        85.2011          38.7185        1.00737e-14\n",
       " 23.1683       49.6693       74.6281          32.8472        1.0121e-14\n",
       " 27.6493       46.9813       67.0266       …  24.1132        1.02036e-14\n",
       " 19.1048       30.3336       44.3004          18.0478        5.9409e-15\n",
       " 10.0216       12.8555       20.8383           9.60116       1.11405e-15\n",
       "  4.91973       6.65406      13.5845           2.61007      -1.01205e-15\n",
       "  2.88658e-15   9.76996e-15   8.88178e-15     -2.66454e-15  -2.16926e-15"
      ]
     },
     "metadata": {},
     "output_type": "display_data"
    },
    {
     "data": {
      "text/plain": [
       "10×10 Matrix{Float64}:\n",
       " 20.2727       40.5638        67.1112       …  1.47872e-14   7.48283\n",
       " 36.9233       62.1111       104.768           1.22998e-14  15.849\n",
       " 55.481        85.2011       140.462           1.12088e-14  24.6664\n",
       " 49.6693       74.6281       123.254           7.45797e-15  23.1683\n",
       " 46.9813       67.0266       109.847           7.9553e-15   27.6493\n",
       " 30.3336       44.3004        72.8277       …  8.50805e-15  19.1048\n",
       " 12.8555       20.8383        36.7023          8.92398e-15  10.0216\n",
       "  6.65406      13.5845        20.0872          1.42997e-14   4.91973\n",
       "  1.10845e-14   9.09495e-15    9.09495e-15     1.40569e-14   1.08002e-14\n",
       " 11.5956       19.4282        33.4496          1.41891e-14   6.02058"
      ]
     },
     "metadata": {},
     "output_type": "display_data"
    },
    {
     "data": {
      "text/plain": [
       "78.35088543121525"
      ]
     },
     "execution_count": 150,
     "metadata": {},
     "output_type": "execute_result"
    }
   ],
   "source": [
    "function v∂GTGu(g,u,v,p)\n",
    "\n",
    "    nout = size(g)[1] - size(u)[1]\n",
    "    x = sym_paddedviews(0,u,g)[1]\n",
    "    y = sym_paddedviews(0,v,g)[1]\n",
    "\n",
    "    function xGTGy(h)\n",
    "        Gx = ifftshift( p \\ ((p * h) .* (p * x)) )[1:nout,1:nout]\n",
    "        Gy = ifftshift( p \\ ((p * h) .* (p * y)) )[1:nout,1:nout]\n",
    "        sum(Gx .* Gy)\n",
    "    end\n",
    "\n",
    "    (xGTGy(g), Zygote.gradient(xGTGy,g)[1])\n",
    "\n",
    "end\n",
    "\n",
    "n1 = 10\n",
    "n2 = 6\n",
    "g = rand(n1,n1)\n",
    "u = rand(n2,n2)\n",
    "v = rand(n2,n2)\n",
    "p = plan_rfft(g,flags=FFTW.MEASURE)\n",
    "\n",
    "gdat = v∂GTGu(g,u,v,p)[2]\n",
    "tmp = a -> v∂GTGu(a,u,v,p)[1]\n",
    "Δ = grad(central_fdm(3,1), tmp,g)[1]\n",
    "display(maximum(abs.(vec(Δ) .- vec(gdat))[1:end-1])/mean(abs.(vec(Δ))))\n",
    "\n",
    "function v∂GTGu_manual(g,u,v,p)\n",
    "\n",
    "    n1 = size(g)[1]\n",
    "    n2 = size(u)[1]\n",
    "    nout = n1 - n2\n",
    "    x = sym_paddedviews(0,u,g)[1]\n",
    "    y = sym_paddedviews(0,v,g)[1]\n",
    "\n",
    "    Gx = ifftshift( p \\ ((p * g) .* (p * x)) )[1:nout,1:nout]\n",
    "    Gy = ifftshift( p \\ ((p * g) .* (p * y)) )[1:nout,1:nout]\n",
    "\n",
    "    xT = sym_paddedviews(0,reverse(u),g)[1]\n",
    "    yT = sym_paddedviews(0,reverse(v),g)[1]\n",
    "    Gx = sym_paddedviews(0,reverse(Gx),g)[1]\n",
    "    Gy = sym_paddedviews(0,reverse(Gy),g)[1]\n",
    "\n",
    "    ret = ( p \\ (conj.(p * Gy) .* (p * xT)) ) .+\n",
    "          ( p \\ (conj.(p * Gx) .* (p * yT)) )\n",
    "\n",
    "    if n1 > 2*n2\n",
    "        return circshift(ret,(-1,-1))\n",
    "    else\n",
    "        return circshift(ret,((n1-n2)÷2,(n1-n2)÷2))\n",
    "    end\n",
    "\n",
    "end\n",
    "gdat2 = v∂GTGu_manual(g,u,v,p)\n",
    "display(gdat)\n",
    "display(gdat2)\n",
    "maximum(abs.(gdat-gdat2))"
   ]
  },
  {
   "cell_type": "code",
   "execution_count": 242,
   "metadata": {},
   "outputs": [
    {
     "data": {
      "text/plain": [
       "2-element Vector{Vector{Float64}}:\n",
       " [6.0, 6.0, 8.0, 7.0, 4.0, 6.0, 9.0, 7.0, 7.0, 6.0, -0.0, 6.0, 8.0, 7.0, 7.0, 6.0]\n",
       " [6.0, 6.0, 8.0, 7.0, 4.0, 6.0, 9.0, 7.0, 7.0, 6.0, -0.0, 6.0, 8.0, 7.0, 7.0, 6.0]"
      ]
     },
     "metadata": {},
     "output_type": "display_data"
    },
    {
     "data": {
      "text/plain": [
       "2-element Vector{Vector{Float64}}:\n",
       " [7.0, 8.0, 10.0, 9.0, 9.0, 7.0, 7.0, 8.0, 7.0, 5.0, 5.0, 1.0, -0.0, 1.0, 2.0, 5.0]\n",
       " [7.0, 8.0, 10.0, 9.0, 9.0, 7.0, 7.0, 8.0, 7.0, 5.0, 5.0, 1.0, -0.0, 1.0, 2.0, 5.0]"
      ]
     },
     "metadata": {},
     "output_type": "display_data"
    },
    {
     "data": {
      "text/plain": [
       "2-element Vector{Vector{Float64}}:\n",
       " [6.0, 10.0, 10.0, 16.0, 20.0, 19.0, 18.0, 16.0, 19.0, 13.0, 9.0, 7.0, 5.0, 3.0, -0.0, 3.0]\n",
       " [6.0, 10.0, 10.0, 16.0, 20.0, 19.0, 18.0, 16.0, 19.0, 13.0, 9.0, 7.0, 5.0, 3.0, 0.0, 3.0]"
      ]
     },
     "metadata": {},
     "output_type": "display_data"
    },
    {
     "data": {
      "text/plain": [
       "2-element Vector{Vector{Float64}}:\n",
       " [0.0, 1.0, 2.0, 3.0, 4.0, 6.0, 6.0, 7.0, 8.0, 7.0, 5.0, 5.0, 4.0, 2.0, 2.0, 1.0]\n",
       " [-0.0, 1.0, 2.0, 3.0, 4.0, 6.0, 6.0, 7.0, 8.0, 7.0, 5.0, 5.0, 4.0, 2.0, 2.0, 1.0]"
      ]
     },
     "metadata": {},
     "output_type": "display_data"
    },
    {
     "data": {
      "text/plain": [
       "2-element Vector{Vector{Float64}}:\n",
       " [4.0, 2.0, -0.0, 1.0, 1.0, 4.0, 6.0, 7.0, 10.0, 9.0, 10.0, 10.0, 10.0, 9.0, 8.0, 6.0]\n",
       " [4.0, 2.0, -0.0, 1.0, 1.0, 4.0, 6.0, 7.0, 10.0, 9.0, 10.0, 10.0, 10.0, 9.0, 8.0, 6.0]"
      ]
     },
     "metadata": {},
     "output_type": "display_data"
    },
    {
     "data": {
      "text/plain": [
       "2-element Vector{Vector{Float64}}:\n",
       " [4.0, 3.0, 2.0, 2.0, -0.0, 2.0, 4.0, 5.0, 6.0, 6.0, 5.0, 4.0, 3.0, 3.0, 3.0, 4.0]\n",
       " [4.0, 3.0, 2.0, 2.0, 0.0, 2.0, 4.0, 5.0, 6.0, 6.0, 5.0, 4.0, 3.0, 3.0, 3.0, 4.0]"
      ]
     },
     "metadata": {},
     "output_type": "display_data"
    },
    {
     "data": {
      "text/plain": [
       "2-element Vector{Vector{Float64}}:\n",
       " [1.0, 1.0, 1.0, 1.0, 1.0, 1.0, -0.0, 0.0, 0.0, 1.0, 1.0, 1.0, 1.0, 1.0, 1.0, 1.0]\n",
       " [1.0, 1.0, 1.0, 1.0, 1.0, 1.0, -0.0, 0.0, 0.0, 1.0, 1.0, 1.0, 1.0, 1.0, 1.0, 1.0]"
      ]
     },
     "metadata": {},
     "output_type": "display_data"
    },
    {
     "data": {
      "text/plain": [
       "2-element Vector{Vector{Float64}}:\n",
       " [3.0, 4.0, 3.0, 1.0, 2.0, 3.0, 1.0, 0.0, 1.0, 3.0]\n",
       " [3.0, 4.0, 3.0, 1.0, 2.0, 3.0, 1.0, 0.0, 1.0, 3.0]"
      ]
     },
     "metadata": {},
     "output_type": "display_data"
    },
    {
     "data": {
      "text/plain": [
       "2-element Vector{Vector{Float64}}:\n",
       " [1.0, 1.0, 2.0, 3.0, 2.0, 3.0, 3.0, 3.0, 2.0, 0.0]\n",
       " [1.0, 1.0, 2.0, 3.0, 2.0, 3.0, 3.0, 3.0, 2.0, 0.0]"
      ]
     },
     "metadata": {},
     "output_type": "display_data"
    }
   ],
   "source": [
    "function v∂GTGu(g,u,v,p)\n",
    "\n",
    "    nout = size(g)[1] - size(u)[1]\n",
    "    x = sym_paddedviews(0,u,g)[1]\n",
    "    y = sym_paddedviews(0,v,g)[1]\n",
    "\n",
    "    function xGTGy(h)\n",
    "        Gx = ifftshift( p \\ ((p * h) .* (p * x)) )[1:nout]\n",
    "        Gy = ifftshift( p \\ ((p * h) .* (p * y)) )[1:nout]\n",
    "        sum(Gx .* Gy)\n",
    "    end\n",
    "\n",
    "    (xGTGy(g), Zygote.gradient(xGTGy,g)[1])\n",
    "\n",
    "end\n",
    "\n",
    "\n",
    "\n",
    "function v∂GTGu_manual(g,u,v,p,m)\n",
    "\n",
    "    n1 = size(g)[1]\n",
    "    n2 = size(u)[1]\n",
    "    nout = n1 - n2\n",
    "    x = sym_paddedviews(0,u,g)[1]\n",
    "    y = sym_paddedviews(0,v,g)[1]\n",
    "\n",
    "    Gx = ifftshift( p \\ ((p * g) .* (p * x)) )[1:nout]\n",
    "    Gy = ifftshift( p \\ ((p * g) .* (p * y)) )[1:nout]\n",
    "\n",
    "    xT = sym_paddedviews(0,reverse(u),g)[1]\n",
    "    yT = sym_paddedviews(0,reverse(v),g)[1]\n",
    "    Gx = sym_paddedviews(0,reverse(Gx),g)[1]\n",
    "    Gy = sym_paddedviews(0,reverse(Gy),g)[1]\n",
    "\n",
    "    ret = ( p \\ (conj.(p * Gy) .* (p * xT)) ) .+\n",
    "          ( p \\ (conj.(p * Gx) .* (p * yT)) )\n",
    "\n",
    "    circshift(ret,m)\n",
    "\n",
    "end\n",
    "\n",
    "n1,n2 = 16,14\n",
    "g,u,v = rand(n1), rand(n2), rand(n2)\n",
    "p = plan_rfft(g,flags=FFTW.MEASURE)\n",
    "gdat = v∂GTGu(g,u,v,p)[2]\n",
    "gdat2 = v∂GTGu_manual(g,u,v,p,-4)\n",
    "display([round.(gdat),round.(gdat2)])\n",
    "\n",
    "n1,n2 = 16,12\n",
    "g,u,v = rand(n1), rand(n2), rand(n2)\n",
    "p = plan_rfft(g,flags=FFTW.MEASURE)\n",
    "gdat = v∂GTGu(g,u,v,p)[2]\n",
    "gdat2 = v∂GTGu_manual(g,u,v,p,0)\n",
    "display([round.(gdat),round.(gdat2)])\n",
    "\n",
    "n1,n2 = 16,10\n",
    "g,u,v = rand(n1), rand(n2), rand(n2)\n",
    "p = plan_rfft(g,flags=FFTW.MEASURE)\n",
    "gdat = v∂GTGu(g,u,v,p)[2]\n",
    "gdat2 = v∂GTGu_manual(g,u,v,p,4)\n",
    "display([round.(gdat),round.(gdat2)])\n",
    "\n",
    "n1,n2 = 16,8\n",
    "g,u,v = rand(n1), rand(n2), rand(n2)\n",
    "p = plan_rfft(g,flags=FFTW.MEASURE)\n",
    "gdat = v∂GTGu(g,u,v,p)[2]\n",
    "gdat2 = ifftshift(v∂GTGu_manual(g,u,v,p,0))\n",
    "display([round.(gdat),round.(gdat2)])\n",
    "\n",
    "n1,n2 = 16,6\n",
    "g,u,v = rand(n1), rand(n2), rand(n2)\n",
    "p = plan_rfft(g,flags=FFTW.MEASURE)\n",
    "gdat = v∂GTGu(g,u,v,p)[2]\n",
    "gdat2 = v∂GTGu_manual(g,u,v,p,-4)\n",
    "display([round.(gdat),round.(gdat2)])\n",
    "\n",
    "n1,n2 = 16,4\n",
    "g,u,v = rand(n1), rand(n2), rand(n2)\n",
    "p = plan_rfft(g,flags=FFTW.MEASURE)\n",
    "gdat = v∂GTGu(g,u,v,p)[2]\n",
    "gdat2 = v∂GTGu_manual(g,u,v,p,0)\n",
    "display([round.(gdat),round.(gdat2)])\n",
    "\n",
    "n1,n2 = 16,2\n",
    "g,u,v = rand(n1), rand(n2), rand(n2)\n",
    "p = plan_rfft(g,flags=FFTW.MEASURE)\n",
    "gdat = v∂GTGu(g,u,v,p)[2]\n",
    "gdat2 = v∂GTGu_manual(g,u,v,p,4)\n",
    "display([round.(gdat),round.(gdat2)])\n",
    "\n",
    "n1,n2 = 10,8\n",
    "g,u,v = rand(n1), rand(n2), rand(n2)\n",
    "p = plan_rfft(g,flags=FFTW.MEASURE)\n",
    "gdat = v∂GTGu(g,u,v,p)[2]\n",
    "gdat2 = v∂GTGu_manual(g,u,v,p,-1)\n",
    "display([round.(gdat),round.(gdat2)])\n",
    "\n",
    "n1,n2 = 10,6\n",
    "g,u,v = rand(n1), rand(n2), rand(n2)\n",
    "p = plan_rfft(g,flags=FFTW.MEASURE)\n",
    "gdat = v∂GTGu(g,u,v,p)[2]\n",
    "gdat2 = v∂GTGu_manual(g,u,v,p,3)\n",
    "display([round.(gdat),round.(gdat2)])"
   ]
  },
  {
   "cell_type": "code",
   "execution_count": null,
   "metadata": {},
   "outputs": [],
   "source": []
  }
 ],
 "metadata": {
  "kernelspec": {
   "display_name": "Julia (8 threads) 1.8.5",
   "language": "julia",
   "name": "julia-_8-threads_-1.8"
  },
  "language_info": {
   "file_extension": ".jl",
   "mimetype": "application/julia",
   "name": "julia",
   "version": "1.8.5"
  },
  "orig_nbformat": 4
 },
 "nbformat": 4,
 "nbformat_minor": 2
}
