{
 "cells": [
  {
   "cell_type": "markdown",
   "metadata": {},
   "source": []
  },
  {
   "cell_type": "code",
   "execution_count": 37,
   "metadata": {},
   "outputs": [
    {
     "name": "stdout",
     "output_type": "stream",
     "text": [
      "  2.875 s (10 allocations: 1.91 GiB)\n"
     ]
    }
   ],
   "source": [
    "using FFTW\n",
    "using PaddedViews\n",
    "using BenchmarkTools\n",
    "\n",
    "n=8000\n",
    "m=3000\n",
    "\n",
    "x = rand(ComplexF64,m,m)\n",
    "y = rand(ComplexF64,n,n)\n",
    "p = plan_fft!(y,flags=FFTW.MEASURE)\n",
    "@views function test!(x,y,p)\n",
    "    p \\ (p*y) .* (p * sym_paddedviews(0,x,y)[1])\n",
    "end\n",
    "z = @btime test!($x,$y,$p);"
   ]
  },
  {
   "cell_type": "code",
   "execution_count": null,
   "metadata": {},
   "outputs": [],
   "source": []
  }
 ],
 "metadata": {
  "kernelspec": {
   "display_name": "Julia (8 threads) 1.8.5",
   "language": "julia",
   "name": "julia-_8-threads_-1.8"
  },
  "language_info": {
   "file_extension": ".jl",
   "mimetype": "application/julia",
   "name": "julia",
   "version": "1.8.5"
  },
  "orig_nbformat": 4
 },
 "nbformat": 4,
 "nbformat_minor": 2
}
