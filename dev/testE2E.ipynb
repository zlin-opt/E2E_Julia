{
 "cells": [
  {
   "cell_type": "code",
   "execution_count": 1,
   "metadata": {},
   "outputs": [
    {
     "name": "stderr",
     "output_type": "stream",
     "text": [
      "\u001b[32m\u001b[1m    Updating\u001b[22m\u001b[39m registry at `C:\\Users\\zinli\\.julia\\registries\\General.toml`\n",
      "\u001b[32m\u001b[1m   Resolving\u001b[22m\u001b[39m package versions...\n",
      "\u001b[32m\u001b[1m  No Changes\u001b[22m\u001b[39m to `C:\\Users\\zinli\\.julia\\environments\\v1.8\\Project.toml`\n",
      "\u001b[32m\u001b[1m  No Changes\u001b[22m\u001b[39m to `C:\\Users\\zinli\\.julia\\environments\\v1.8\\Manifest.toml`\n",
      "\u001b[32m\u001b[1m   Resolving\u001b[22m\u001b[39m package versions...\n",
      "\u001b[32m\u001b[1m  No Changes\u001b[22m\u001b[39m to `C:\\Users\\zinli\\.julia\\environments\\v1.8\\Project.toml`\n",
      "\u001b[32m\u001b[1m  No Changes\u001b[22m\u001b[39m to `C:\\Users\\zinli\\.julia\\environments\\v1.8\\Manifest.toml`\n",
      "\u001b[32m\u001b[1m   Resolving\u001b[22m\u001b[39m package versions...\n",
      "\u001b[32m\u001b[1m  No Changes\u001b[22m\u001b[39m to `C:\\Users\\zinli\\.julia\\environments\\v1.8\\Project.toml`\n",
      "\u001b[32m\u001b[1m  No Changes\u001b[22m\u001b[39m to `C:\\Users\\zinli\\.julia\\environments\\v1.8\\Manifest.toml`\n",
      "\u001b[32m\u001b[1m   Resolving\u001b[22m\u001b[39m package versions...\n",
      "\u001b[32m\u001b[1m  No Changes\u001b[22m\u001b[39m to `C:\\Users\\zinli\\.julia\\environments\\v1.8\\Project.toml`\n",
      "\u001b[32m\u001b[1m  No Changes\u001b[22m\u001b[39m to `C:\\Users\\zinli\\.julia\\environments\\v1.8\\Manifest.toml`\n",
      "\u001b[32m\u001b[1m   Resolving\u001b[22m\u001b[39m package versions...\n",
      "\u001b[32m\u001b[1m  No Changes\u001b[22m\u001b[39m to `C:\\Users\\zinli\\.julia\\environments\\v1.8\\Project.toml`\n",
      "\u001b[32m\u001b[1m  No Changes\u001b[22m\u001b[39m to `C:\\Users\\zinli\\.julia\\environments\\v1.8\\Manifest.toml`\n",
      "\u001b[32m\u001b[1m   Resolving\u001b[22m\u001b[39m package versions...\n",
      "\u001b[32m\u001b[1m  No Changes\u001b[22m\u001b[39m to `C:\\Users\\zinli\\.julia\\environments\\v1.8\\Project.toml`\n",
      "\u001b[32m\u001b[1m  No Changes\u001b[22m\u001b[39m to `C:\\Users\\zinli\\.julia\\environments\\v1.8\\Manifest.toml`\n",
      "\u001b[32m\u001b[1m   Resolving\u001b[22m\u001b[39m package versions...\n",
      "\u001b[32m\u001b[1m  No Changes\u001b[22m\u001b[39m to `C:\\Users\\zinli\\.julia\\environments\\v1.8\\Project.toml`\n",
      "\u001b[32m\u001b[1m  No Changes\u001b[22m\u001b[39m to `C:\\Users\\zinli\\.julia\\environments\\v1.8\\Manifest.toml`\n",
      "\u001b[32m\u001b[1m   Resolving\u001b[22m\u001b[39m package versions...\n",
      "\u001b[32m\u001b[1m  No Changes\u001b[22m\u001b[39m to `C:\\Users\\zinli\\.julia\\environments\\v1.8\\Project.toml`\n",
      "\u001b[32m\u001b[1m  No Changes\u001b[22m\u001b[39m to `C:\\Users\\zinli\\.julia\\environments\\v1.8\\Manifest.toml`\n",
      "\u001b[32m\u001b[1m   Resolving\u001b[22m\u001b[39m package versions...\n",
      "\u001b[32m\u001b[1m  No Changes\u001b[22m\u001b[39m to `C:\\Users\\zinli\\.julia\\environments\\v1.8\\Project.toml`\n",
      "\u001b[32m\u001b[1m  No Changes\u001b[22m\u001b[39m to `C:\\Users\\zinli\\.julia\\environments\\v1.8\\Manifest.toml`\n",
      "\u001b[32m\u001b[1m   Resolving\u001b[22m\u001b[39m package versions...\n",
      "\u001b[32m\u001b[1m  No Changes\u001b[22m\u001b[39m to `C:\\Users\\zinli\\.julia\\environments\\v1.8\\Project.toml`\n",
      "\u001b[32m\u001b[1m  No Changes\u001b[22m\u001b[39m to `C:\\Users\\zinli\\.julia\\environments\\v1.8\\Manifest.toml`\n",
      "\u001b[32m\u001b[1m   Resolving\u001b[22m\u001b[39m package versions...\n",
      "\u001b[32m\u001b[1m  No Changes\u001b[22m\u001b[39m to `C:\\Users\\zinli\\.julia\\environments\\v1.8\\Project.toml`\n",
      "\u001b[32m\u001b[1m  No Changes\u001b[22m\u001b[39m to `C:\\Users\\zinli\\.julia\\environments\\v1.8\\Manifest.toml`\n",
      "\u001b[32m\u001b[1m   Resolving\u001b[22m\u001b[39m package versions...\n",
      "\u001b[32m\u001b[1m  No Changes\u001b[22m\u001b[39m to `C:\\Users\\zinli\\.julia\\environments\\v1.8\\Project.toml`\n",
      "\u001b[32m\u001b[1m  No Changes\u001b[22m\u001b[39m to `C:\\Users\\zinli\\.julia\\environments\\v1.8\\Manifest.toml`\n"
     ]
    },
    {
     "name": "stdout",
     "output_type": "stream",
     "text": [
      "Performing FFP for freq 1\n",
      "Performing FFP for freq 2Performing FFP for freq 3\n",
      "\n",
      "Evaluating the transmission coefficients\n",
      "Performing FFP for freq 1\n",
      "Performing FFP for freq 2\n",
      "Performing FFP for freq 3\n",
      "Reconstruction stage: ground truth 4\n",
      "Reconstruction stage: ground truth 1\n",
      "Reconstruction stage: ground truth 3\n",
      "Reconstruction stage: ground truth 2\n",
      "CG converged in 3 steps with residual 1.2489141463710478e-39.\n",
      "CG converged in 3 steps with residual 5.656515783482335e-42.\n",
      "CG converged in 3 steps with residual 1.6170433644866102e-40.\n",
      "CG converged in 3 steps with residual 2.1673165186999433e-41.\n",
      "  0.036478 seconds (8.34 k allocations: 1001.812 KiB)\n",
      "  0.037160 seconds (9.27 k allocations: 1.074 MiB)\n",
      "  0.038058 seconds (10.02 k allocations: 1.152 MiB)\n",
      "  0.037366 seconds (9.29 k allocations: 1.069 MiB)\n",
      "Backpropagation stage: ground truth 1\n",
      "Backpropagation stage: ground truth 2\n",
      "Backpropagation stage: ground truth 3\n",
      "Backpropagation stage: ground truth 4\n",
      "CG converged in 3 steps with residual 3.34495841808786e-34.\n",
      "CG converged in 3 steps with residual 9.597233397517857e-34.\n",
      "  0.039258 seconds (4.61 k allocations: 558.516 KiB)\n",
      "  0.039627 seconds (5.37 k allocations: 648.219 KiB)\n",
      "CG converged in 3 steps with residual 5.866509277507874e-35.\n",
      "CG converged in 3 steps with residual 1.4800782573640178e-34.\n",
      "  0.379419 seconds (717.44 k allocations: 34.022 MiB, 92.10% compilation time)\n",
      "  0.379268 seconds (717.24 k allocations: 33.998 MiB, 92.14% compilation time)\n",
      "Performing FFP for freq 3\n",
      "Performing FFP for freq 2\n",
      "Performing FFP for freq 1\n",
      "step 0 returns 0.9971325426511026\n"
     ]
    }
   ],
   "source": [
    "include(\"./End2End.jl\")\n",
    "using .End2End\n",
    "using FiniteDifferences\n",
    "\n",
    "ncells = 6\n",
    "lb = 0.11\n",
    "ub = 0.68\n",
    "F,∂F,params = setup(lb=0.11,ub=0.68,\n",
    "                    filename=\"alldat_5wavs.dat\",\n",
    "                    ncells=ncells,\n",
    "                    npix=4,nintg=2,\n",
    "                    ntruth=2,\n",
    "                    nthr=1,\n",
    "                    freqs=[0.8,1.0,1.2],\n",
    "                    δx = 0.8, δy = 0.8,\n",
    "                    Dz = 500.0,\n",
    "                    ϵ_free = 1.0, μ_free = 1.0,\n",
    "                    ntrain = 4,\n",
    "                    α = 100.0);\n",
    "p₀ = rand(1.2*lb:0.01/ncells^2:0.8*ub,ncells^2)\n",
    "gdat = zeros(ncells*ncells)\n",
    "tmp = zeros(ncells*ncells)\n",
    "end2end!(gdat, F,∂F, params.models, p₀, F2ℓ, params);\n",
    "# gdat1 = grad(central_fdm(5,1), x->end2end!(tmp, F,∂F, params.models, x, F2ℓ, params), p₀)[1]\n",
    "# display(maximum(abs.(gdat .- gdat1))/mean(abs.(gdat)))"
   ]
  },
  {
   "cell_type": "code",
   "execution_count": 4,
   "metadata": {},
   "outputs": [
    {
     "data": {
      "text/plain": [
       "6-element Vector{Int64}:\n",
       "  0\n",
       " -1\n",
       " -2\n",
       "  4\n",
       "  1\n",
       "  1"
      ]
     },
     "metadata": {},
     "output_type": "display_data"
    },
    {
     "data": {
      "text/plain": [
       "6-element Vector{Int64}:\n",
       " 0\n",
       " 1\n",
       " 1\n",
       " 4\n",
       " 1\n",
       " 1"
      ]
     },
     "metadata": {},
     "output_type": "display_data"
    }
   ],
   "source": [
    "a = [0,-1,-2,4,1,1]\n",
    "display(a)\n",
    "a[a.<0].=1\n",
    "display(a)"
   ]
  },
  {
   "cell_type": "code",
   "execution_count": 6,
   "metadata": {},
   "outputs": [
    {
     "data": {
      "text/plain": [
       "0.5209283247529888"
      ]
     },
     "execution_count": 6,
     "metadata": {},
     "output_type": "execute_result"
    }
   ],
   "source": [
    "using BenchmarkTools\n",
    "a = rand(3,3)\n",
    "mean(a)"
   ]
  },
  {
   "cell_type": "code",
   "execution_count": null,
   "metadata": {},
   "outputs": [],
   "source": []
  },
  {
   "cell_type": "code",
   "execution_count": 1,
   "metadata": {},
   "outputs": [
    {
     "data": {
      "text/plain": [
       "([-0.38409850654038313, 1.1856206294084377, 0.9020283584305085, -0.8112994729356016, 1.7267661167391894, -0.8507440087003972, -0.4248703803690912, -0.8751495491563163, -0.1954549592209788, 0.04083380131078818  …  -0.22578348525618944, -0.82300201257497, -0.9728372138131716, 1.5508594415004513, 2.176090136297172, -0.0962309220730193, 1.0362581824195334, 2.1193914632986837, 0.08306418015270747, 1.0942304496887438], Converged after 333 iterations.)"
      ]
     },
     "execution_count": 1,
     "metadata": {},
     "output_type": "execute_result"
    }
   ],
   "source": [
    "using IterativeSolvers\n",
    "tmp = rand(100,100) \n",
    "A = tmp + tmp'\n",
    "b = rand(100)\n",
    "x,ch = cg(A,b,maxiter=10000,abstol=10^(-16),reltol=10^(-16),log=true)"
   ]
  },
  {
   "cell_type": "code",
   "execution_count": 2,
   "metadata": {},
   "outputs": [
    {
     "data": {
      "text/plain": [
       "100-element Vector{Float64}:\n",
       " -0.38409850654038313\n",
       "  1.1856206294084377\n",
       "  0.9020283584305085\n",
       " -0.8112994729356016\n",
       "  1.7267661167391894\n",
       " -0.8507440087003972\n",
       " -0.4248703803690912\n",
       " -0.8751495491563163\n",
       " -0.1954549592209788\n",
       "  0.04083380131078818\n",
       " -1.2488180219900082\n",
       " -1.4075722807586377\n",
       "  1.38098143651682\n",
       "  ⋮\n",
       " -0.7780311665807988\n",
       "  0.3022777516617916\n",
       " -0.22578348525618944\n",
       " -0.82300201257497\n",
       " -0.9728372138131716\n",
       "  1.5508594415004513\n",
       "  2.176090136297172\n",
       " -0.0962309220730193\n",
       "  1.0362581824195334\n",
       "  2.1193914632986837\n",
       "  0.08306418015270747\n",
       "  1.0942304496887438"
      ]
     },
     "execution_count": 2,
     "metadata": {},
     "output_type": "execute_result"
    }
   ],
   "source": [
    "x"
   ]
  },
  {
   "cell_type": "code",
   "execution_count": 25,
   "metadata": {},
   "outputs": [
    {
     "name": "stdout",
     "output_type": "stream",
     "text": [
      "here 346\n"
     ]
    }
   ],
   "source": [
    "println(\"here $(size(ch[:resnorm],1))\")"
   ]
  },
  {
   "cell_type": "code",
   "execution_count": 9,
   "metadata": {},
   "outputs": [
    {
     "data": {
      "text/plain": [
       "4×4 Matrix{Float64}:\n",
       " -0.0424977   0.343029   -0.190162   0.412104\n",
       "  0.0965815  -0.535015    0.361012   0.0556645\n",
       "  0.135794    0.494206   -0.172699  -0.226906\n",
       " -0.415337   -0.0028238   0.260202   0.766378"
      ]
     },
     "execution_count": 9,
     "metadata": {},
     "output_type": "execute_result"
    }
   ],
   "source": [
    "a = rand(4,4)\n",
    "b = rand(4,4)\n",
    "c = rand(4,4)\n",
    "a .= b .- c"
   ]
  },
  {
   "cell_type": "code",
   "execution_count": 8,
   "metadata": {},
   "outputs": [
    {
     "data": {
      "text/plain": [
       "4×4 Matrix{Float64}:\n",
       " -0.0382015  -0.562033   0.0384774   0.386995\n",
       " -0.0561613  -0.913631   0.739032   -0.299498\n",
       "  0.0944967   0.18209    0.208503    0.0678999\n",
       "  0.334125   -0.473607  -0.388278   -0.0382952"
      ]
     },
     "execution_count": 8,
     "metadata": {},
     "output_type": "execute_result"
    }
   ],
   "source": [
    "a"
   ]
  },
  {
   "cell_type": "code",
   "execution_count": 11,
   "metadata": {},
   "outputs": [
    {
     "data": {
      "text/plain": [
       "48"
      ]
     },
     "execution_count": 11,
     "metadata": {},
     "output_type": "execute_result"
    }
   ],
   "source": [
    "a=rand(4,4,3)\n",
    "size(vec(a),1)"
   ]
  },
  {
   "cell_type": "code",
   "execution_count": 13,
   "metadata": {},
   "outputs": [
    {
     "data": {
      "text/plain": [
       "15.54510044380559"
      ]
     },
     "execution_count": 13,
     "metadata": {},
     "output_type": "execute_result"
    }
   ],
   "source": [
    "using LinearAlgebra\n",
    "dot(a,a)"
   ]
  },
  {
   "cell_type": "code",
   "execution_count": null,
   "metadata": {},
   "outputs": [],
   "source": []
  }
 ],
 "metadata": {
  "kernelspec": {
   "display_name": "Julia (8 threads) 1.8.5",
   "language": "julia",
   "name": "julia-_8-threads_-1.8"
  },
  "language_info": {
   "file_extension": ".jl",
   "mimetype": "application/julia",
   "name": "julia",
   "version": "1.8.5"
  },
  "orig_nbformat": 4
 },
 "nbformat": 4,
 "nbformat_minor": 2
}
