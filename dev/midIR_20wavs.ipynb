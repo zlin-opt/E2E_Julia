{
 "cells": [
  {
   "cell_type": "code",
   "execution_count": null,
   "metadata": {},
   "outputs": [],
   "source": [
    "include(\"./End2End.jl\")\n",
    "using .End2End\n",
    "\n",
    "F,∂F,params = setup(lb=0.11,ub=0.68,\n",
    "                    filename=\"alldat_20wavs.dat\",\n",
    "                    ncells=5000,\n",
    "                    npix=600,nintg=5,\n",
    "                    ntruth=120,\n",
    "                    nthr=4,\n",
    "                    freqs=vec([1.25 1.22 1.2  1.17 1.14 1.12 1.09 1.07 1.04 1.01 0.99 0.96 0.93 0.91 0.88 0.86 0.83 0.8  0.78 0.75]),\n",
    "                    δx = 0.79, δy = 0.79,\n",
    "                    Dz = 10000.0,\n",
    "                    ϵ_free = 1.0, μ_free = 1.0,\n",
    "                    ntrain = 4,\n",
    "                    α = 100.0);\n",
    "p₀ = ((params.lb+params.ub)/2) .* ones(params.ncells*params.ncells)\n",
    "optrun!(p₀, F,∂F,params);"
   ]
  }
 ],
 "metadata": {
  "kernelspec": {
   "display_name": "Julia 16 Threads 1.7.2",
   "language": "julia",
   "name": "julia-16-threads-1.7"
  },
  "language_info": {
   "file_extension": ".jl",
   "mimetype": "application/julia",
   "name": "julia",
   "version": "1.7.2"
  },
  "orig_nbformat": 4
 },
 "nbformat": 4,
 "nbformat_minor": 2
}
