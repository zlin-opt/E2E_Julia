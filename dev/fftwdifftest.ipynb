{
 "cells": [
  {
   "cell_type": "code",
   "execution_count": 2,
   "metadata": {},
   "outputs": [
    {
     "data": {
      "text/plain": [
       "20×20 Matrix{Float64}:\n",
       " 26.7812  26.488   28.0306  26.0965  …  23.9443  22.2589  24.3153  21.8602\n",
       " 26.3796  26.151   27.7268  29.0444     23.9356  21.7662  23.0994  25.3098\n",
       " 23.335   26.2227  26.8282  24.2794     24.1271  24.8123  23.575   24.8784\n",
       " 25.351   25.6345  26.8454  26.3872     23.9353  24.6334  23.6297  24.0506\n",
       " 24.0542  26.5028  23.4783  24.3369     22.125   25.0654  23.9724  25.2736\n",
       " 25.0252  25.095   25.0417  22.2577  …  24.6397  23.9663  26.9445  25.1232\n",
       " 24.9139  25.2086  24.15    23.1651     23.643   23.6952  24.8405  24.0525\n",
       " 24.218   24.7215  24.8003  23.7141     24.7688  23.0965  24.4946  23.8169\n",
       " 23.894   22.1579  23.9436  23.0545     23.3152  24.4641  23.8827  23.3464\n",
       " 22.1919  24.0361  23.7216  22.7459     25.7252  25.9698  26.3939  23.428\n",
       " 24.6779  24.4163  24.0067  22.0651  …  23.6565  23.4368  24.4636  24.8444\n",
       " 25.289   25.4209  23.2081  22.5427     25.3505  23.4575  25.7714  23.7184\n",
       " 24.1567  24.3969  23.8022  23.772      24.2526  25.3272  24.9558  22.9988\n",
       " 23.9288  25.4085  23.719   23.2274     24.0577  24.7428  25.0855  23.9358\n",
       " 24.412   22.8232  24.6129  23.8468     26.1628  24.778   25.6448  22.9581\n",
       " 25.3266  23.8254  23.6043  24.028   …  24.3096  24.7037  22.2319  24.0253\n",
       " 27.2277  24.1933  25.5625  25.2529     25.9756  24.584   24.5886  23.0904\n",
       " 26.4372  23.8948  24.3521  25.8695     24.5809  25.0698  24.5336  22.6347\n",
       " 23.8354  25.2748  23.416   23.5653     26.0362  24.5576  24.5771  23.7014\n",
       " 23.1783  24.5816  22.7892  23.3945     23.2189  23.5483  24.2856  21.9574"
      ]
     },
     "metadata": {},
     "output_type": "display_data"
    },
    {
     "data": {
      "text/plain": [
       "20×20 Matrix{Float64}:\n",
       " 26.7812  26.488   28.0306  26.0965  …  23.9443  22.2589  24.3153  21.8602\n",
       " 26.3796  26.151   27.7268  29.0444     23.9356  21.7662  23.0994  25.3098\n",
       " 23.335   26.2227  26.8282  24.2794     24.1271  24.8123  23.575   24.8784\n",
       " 25.351   25.6345  26.8454  26.3872     23.9353  24.6334  23.6297  24.0506\n",
       " 24.0542  26.5028  23.4783  24.3369     22.125   25.0654  23.9724  25.2736\n",
       " 25.0252  25.095   25.0417  22.2577  …  24.6397  23.9663  26.9445  25.1232\n",
       " 24.9139  25.2086  24.15    23.1651     23.643   23.6952  24.8405  24.0525\n",
       " 24.218   24.7215  24.8003  23.7141     24.7688  23.0965  24.4946  23.8169\n",
       " 23.894   22.1579  23.9436  23.0545     23.3152  24.4641  23.8827  23.3464\n",
       " 22.1919  24.0361  23.7216  22.7459     25.7252  25.9698  26.3939  23.428\n",
       " 24.6779  24.4163  24.0067  22.0651  …  23.6565  23.4368  24.4636  24.8444\n",
       " 25.289   25.4209  23.2081  22.5427     25.3505  23.4575  25.7714  23.7184\n",
       " 24.1567  24.3969  23.8022  23.772      24.2526  25.3272  24.9558  22.9988\n",
       " 23.9288  25.4085  23.719   23.2274     24.0577  24.7428  25.0855  23.9358\n",
       " 24.412   22.8232  24.6129  23.8468     26.1628  24.778   25.6448  22.9581\n",
       " 25.3266  23.8254  23.6043  24.028   …  24.3096  24.7037  22.2319  24.0253\n",
       " 27.2277  24.1933  25.5625  25.2529     25.9756  24.584   24.5886  23.0904\n",
       " 26.4372  23.8948  24.3521  25.8695     24.5809  25.0698  24.5336  22.6347\n",
       " 23.8354  25.2748  23.416   23.5653     26.0362  24.5576  24.5771  23.7014\n",
       " 23.1783  24.5816  22.7892  23.3945     23.2189  23.5483  24.2856  21.9574"
      ]
     },
     "metadata": {},
     "output_type": "display_data"
    },
    {
     "data": {
      "text/plain": [
       "20×20 Matrix{Float64}:\n",
       " 26.7812  26.488   28.0306  26.0965  …  23.9443  22.2589  24.3153  21.8602\n",
       " 26.3796  26.151   27.7268  29.0444     23.9356  21.7662  23.0994  25.3098\n",
       " 23.335   26.2227  26.8282  24.2794     24.1271  24.8123  23.575   24.8784\n",
       " 25.351   25.6345  26.8454  26.3872     23.9353  24.6334  23.6297  24.0506\n",
       " 24.0542  26.5028  23.4783  24.3369     22.125   25.0654  23.9724  25.2736\n",
       " 25.0252  25.095   25.0417  22.2577  …  24.6397  23.9663  26.9445  25.1232\n",
       " 24.9139  25.2086  24.15    23.1651     23.643   23.6952  24.8405  24.0525\n",
       " 24.218   24.7215  24.8003  23.7141     24.7688  23.0965  24.4946  23.8169\n",
       " 23.894   22.1579  23.9436  23.0545     23.3152  24.4641  23.8827  23.3464\n",
       " 22.1919  24.0361  23.7216  22.7459     25.7252  25.9698  26.3939  23.428\n",
       " 24.6779  24.4163  24.0067  22.0651  …  23.6565  23.4368  24.4636  24.8444\n",
       " 25.289   25.4209  23.2081  22.5427     25.3505  23.4575  25.7714  23.7184\n",
       " 24.1567  24.3969  23.8022  23.772      24.2526  25.3272  24.9558  22.9988\n",
       " 23.9288  25.4085  23.719   23.2274     24.0577  24.7428  25.0855  23.9358\n",
       " 24.412   22.8232  24.6129  23.8468     26.1628  24.778   25.6448  22.9581\n",
       " 25.3266  23.8254  23.6043  24.028   …  24.3096  24.7037  22.2319  24.0253\n",
       " 27.2277  24.1933  25.5625  25.2529     25.9756  24.584   24.5886  23.0904\n",
       " 26.4372  23.8948  24.3521  25.8695     24.5809  25.0698  24.5336  22.6347\n",
       " 23.8354  25.2748  23.416   23.5653     26.0362  24.5576  24.5771  23.7014\n",
       " 23.1783  24.5816  22.7892  23.3945     23.2189  23.5483  24.2856  21.9574"
      ]
     },
     "metadata": {},
     "output_type": "display_data"
    }
   ],
   "source": [
    "using FFTW\n",
    "using PaddedViews\n",
    "using DSP\n",
    "using LinearAlgebra\n",
    "using Random\n",
    "using Zygote\n",
    "\n",
    "function validconv(u,g)\n",
    "    nu = size(u)[1]\n",
    "    ng = size(g)[1]\n",
    "    out = conv(u,g)[nu+1:ng,nu+1:ng]\n",
    "\n",
    "end\n",
    "\n",
    "function validconvfft(u,g)\n",
    "\n",
    "    nu = size(u)[1]\n",
    "    ng = size(g)[1]\n",
    "    uu = PaddedView(0,u,(nu+ng-1,nu+ng-1))\n",
    "    gg = PaddedView(0,g,(ng+nu-1,nu+ng-1))\n",
    "    out = real.(ifft(fft(gg).*fft(uu)))[nu+1:ng,nu+1:ng]\n",
    "\n",
    "end\n",
    "\n",
    "function validconvfft2(u,g)\n",
    "\n",
    "    nu = size(u)[1]\n",
    "    ng = size(g)[1]\n",
    "    nv = ng - nu\n",
    "    i1 = 1+(nu÷2)\n",
    "    i2 = i1 + nv -1\n",
    "    uu = collect(sym_paddedviews(0,u,g)[1]) \n",
    "    out = real.(ifftshift(ifft(fft(g).*fft(uu))))[i1:i2,i1:i2]\n",
    "\n",
    "end\n",
    "nu,ng=10,30\n",
    "u = rand(nu,nu)\n",
    "g = rand(ng,ng)\n",
    "display(validconv(u,g))\n",
    "display(validconvfft(u,g))\n",
    "display(validconvfft2(u,g))"
   ]
  },
  {
   "cell_type": "code",
   "execution_count": 78,
   "metadata": {},
   "outputs": [
    {
     "data": {
      "text/plain": [
       "2.695092745816874e-12"
      ]
     },
     "metadata": {},
     "output_type": "display_data"
    }
   ],
   "source": [
    "using FiniteDifferences\n",
    "using BenchmarkTools\n",
    "function vgu(g,u,v)\n",
    "\n",
    "    nu = size(u)[1]\n",
    "    ng = size(g)[1]\n",
    "    out = conv(u,g)[nu+1:ng,nu+1:ng]\n",
    "\n",
    "    sum(v .* out)\n",
    "\n",
    "end\n",
    "\n",
    "function v∂gu(g,u,v)\n",
    "\n",
    "    nu = size(u)[1]\n",
    "    nv = size(v)[1]\n",
    "    uu = collect(sym_paddedviews(0,u,g)[1])\n",
    "    vv = collect(sym_paddedviews(0,v,g)[1])\n",
    "    real.( ifftshift( ifft( fft(vv) .* conj.(fft(uu)) ) ))\n",
    "\n",
    "end\n",
    "\n",
    "function vGTGu(g,u,v)\n",
    "\n",
    "    nu = size(u)[1]\n",
    "    ng = size(g)[1]\n",
    "    Gu = conv(u,g)[nu+1:ng,nu+1:ng]\n",
    "    Gv = conv(v,g)[nu+1:ng,nu+1:ng]\n",
    "\n",
    "    sum(Gv .* Gu)\n",
    "\n",
    "end\n",
    "\n",
    "function v∂GTGu(g,u,v)\n",
    "\n",
    "    narr = size(u)[1]\n",
    "    ng = size(g)[1]\n",
    "    nout = ng - narr\n",
    "    i1 = 1+(narr÷2)\n",
    "    i2 = i1 + nout -1\n",
    "    uu = collect(sym_paddedviews(0,u,g)[1]) \n",
    "    vv = collect(sym_paddedviews(0,v,g)[1])\n",
    "    Gu = real.(ifftshift(ifft(fft(g).*fft(uu))))[i1:i2,i1:i2]\n",
    "    Gv = real.(ifftshift(ifft(fft(g).*fft(vv))))[i1:i2,i1:i2]\n",
    "\n",
    "    v∂gu(g,u,Gv) .+ v∂gu(g,v,Gu)\n",
    "\n",
    "end\n",
    "\n",
    "# nu,ng=10,26\n",
    "# nv=ng-nu\n",
    "# u = rand(nu,nu)\n",
    "# g = rand(ng,ng)\n",
    "# v = rand(nv,nv)\n",
    "# gdat = grad(central_fdm(5,1), x->vgu(x,u,v), g)[1]\n",
    "# gdat1 = v∂gu(g,u,v)\n",
    "# display(maximum(abs.(gdat .- gdat1))/mean(abs.(gdat)))\n",
    "\n",
    "nu,ng=6,12\n",
    "nv=nu\n",
    "u = rand(nu,nu)\n",
    "g = rand(ng,ng)\n",
    "v = rand(nv,nv)\n",
    "gdat = grad(central_fdm(5,1), x->vGTGu(x,u,v), g)[1]\n",
    "gdat1 = v∂GTGu(g,u,v)\n",
    "display(maximum(abs.(gdat .- gdat1))/mean(abs.(gdat)))"
   ]
  },
  {
   "cell_type": "code",
   "execution_count": 117,
   "metadata": {},
   "outputs": [
    {
     "data": {
      "text/plain": [
       "1.881593789881613e-11"
      ]
     },
     "metadata": {},
     "output_type": "display_data"
    }
   ],
   "source": [
    "using Base.Threads\n",
    "using FiniteDifferences\n",
    "using BenchmarkTools\n",
    "\n",
    "function vGTGu(g,u,v)\n",
    "\n",
    "    nu = size(u)[1]\n",
    "    ng = size(g)[1]\n",
    "    m = size(g)[3]\n",
    "    Gu = zeros(Float64,ng-nu,ng-nu)\n",
    "    Gv = zeros(Float64,ng-nu,ng-nu)\n",
    "    for i in 1:m\n",
    "        @views Gu[:,:] .+= conv(u[:,:,i],g[:,:,i])[nu+1:ng,nu+1:ng]\n",
    "        @views Gv[:,:] .+= conv(v[:,:,i],g[:,:,i])[nu+1:ng,nu+1:ng]\n",
    "    end\n",
    "\n",
    "    sum(Gv .* Gu)\n",
    "\n",
    "end\n",
    "\n",
    "function v∂gu(g,u,v)\n",
    "\n",
    "    uu = collect(sym_paddedviews(0,u,g)[1])\n",
    "    vv = collect(sym_paddedviews(0,v,g)[1])\n",
    "    real.( ifftshift( ifft( fft(vv) .* conj.(fft(uu)) ) ))\n",
    "\n",
    "end\n",
    "\n",
    "function v∂GTGu(g,u,v)\n",
    "\n",
    "    narr = size(u)[1]\n",
    "    ng = size(g)[1]\n",
    "    nfreqs = size(g)[3]\n",
    "    nout = ng - narr\n",
    "    i1 = 1+(narr÷2)\n",
    "    i2 = i1 + nout -1\n",
    "    Gu = zeros(Float64,nout,nout)\n",
    "    Gv = zeros(Float64,nout,nout)\n",
    "    Threads.@threads for i in 1:nfreqs\n",
    "        uu = collect(sym_paddedviews(0,u[:,:,i],g[:,:,i])[1]) \n",
    "        vv = collect(sym_paddedviews(0,v[:,:,i],g[:,:,i])[1])\n",
    "        @views Gu[:,:] .+= real.(ifftshift(ifft(fft(g[:,:,i]).*fft(uu))))[i1:i2,i1:i2]\n",
    "        @views Gv[:,:] .+= real.(ifftshift(ifft(fft(g[:,:,i]).*fft(vv))))[i1:i2,i1:i2]\n",
    "    end\n",
    "\n",
    "    ∂g = zeros(Float64,ng,ng,nfreqs)\n",
    "    Threads.@threads for i in 1:nfreqs\n",
    "        @views ∂g[:,:,i] .= v∂gu(g[:,:,i],u[:,:,i],Gv) .+ v∂gu(g[:,:,i],v[:,:,i],Gu)\n",
    "    end\n",
    "\n",
    "    ∂g\n",
    "\n",
    "end\n",
    "\n",
    "using Random\n",
    "\n",
    "Random.seed!(3)\n",
    "nu = 14\n",
    "ng = 16\n",
    "nfreqs = 5\n",
    "g = rand(Float64,ng,ng,nfreqs)\n",
    "u = rand(Float64,nu,nu,nfreqs)\n",
    "v = rand(Float64,nu,nu,nfreqs)\n",
    "\n",
    "gdat = grad(central_fdm(5,1), x->vGTGu(x,u,v), g)[1]\n",
    "gdat1 = v∂GTGu(g,u,v)\n",
    "display(maximum(abs.(gdat .- gdat1))/mean(abs.(gdat)))"
   ]
  },
  {
   "cell_type": "code",
   "execution_count": 128,
   "metadata": {},
   "outputs": [
    {
     "data": {
      "text/plain": [
       "4×4 Matrix{Float64}:\n",
       " 0.331889   0.792513  0.528247  0.313269\n",
       " 0.528449   0.395595  0.500903  0.21754\n",
       " 0.903764   0.237026  0.854022  0.838578\n",
       " 0.0630948  0.472075  0.314593  0.3439"
      ]
     },
     "execution_count": 128,
     "metadata": {},
     "output_type": "execute_result"
    }
   ],
   "source": [
    "n=4\n",
    "p = plan_rfft(rand(Float64,n,n),flags=FFTW.MEASURE)\n",
    "p \\ (p * rand(Float64,n,n))"
   ]
  },
  {
   "cell_type": "code",
   "execution_count": 2,
   "metadata": {},
   "outputs": [],
   "source": []
  },
  {
   "cell_type": "code",
   "execution_count": null,
   "metadata": {},
   "outputs": [],
   "source": []
  }
 ],
 "metadata": {
  "kernelspec": {
   "display_name": "Julia (8 threads) 1.8.5",
   "language": "julia",
   "name": "julia-_8-threads_-1.8"
  },
  "language_info": {
   "file_extension": ".jl",
   "mimetype": "application/julia",
   "name": "julia",
   "version": "1.8.5"
  },
  "orig_nbformat": 4
 },
 "nbformat": 4,
 "nbformat_minor": 2
}
