{
 "cells": [
  {
   "cell_type": "code",
   "execution_count": 6,
   "id": "e7738378",
   "metadata": {},
   "outputs": [
    {
     "name": "stderr",
     "output_type": "stream",
     "text": [
      "\u001b[32m\u001b[1m   Resolving\u001b[22m\u001b[39m package versions...\n",
      "\u001b[32m\u001b[1m  No Changes\u001b[22m\u001b[39m to `C:\\Users\\Zin Lin\\.julia\\environments\\v1.7\\Project.toml`\n",
      "\u001b[32m\u001b[1m  No Changes\u001b[22m\u001b[39m to `C:\\Users\\Zin Lin\\.julia\\environments\\v1.7\\Manifest.toml`\n",
      "\u001b[32m\u001b[1m   Resolving\u001b[22m\u001b[39m package versions...\n",
      "\u001b[32m\u001b[1m  No Changes\u001b[22m\u001b[39m to `C:\\Users\\Zin Lin\\.julia\\environments\\v1.7\\Project.toml`\n",
      "\u001b[32m\u001b[1m  No Changes\u001b[22m\u001b[39m to `C:\\Users\\Zin Lin\\.julia\\environments\\v1.7\\Manifest.toml`\n",
      "\u001b[32m\u001b[1m   Resolving\u001b[22m\u001b[39m package versions...\n",
      "\u001b[32m\u001b[1m  No Changes\u001b[22m\u001b[39m to `C:\\Users\\Zin Lin\\.julia\\environments\\v1.7\\Project.toml`\n",
      "\u001b[32m\u001b[1m  No Changes\u001b[22m\u001b[39m to `C:\\Users\\Zin Lin\\.julia\\environments\\v1.7\\Manifest.toml`\n",
      "\u001b[32m\u001b[1m   Resolving\u001b[22m\u001b[39m package versions...\n",
      "\u001b[32m\u001b[1m  No Changes\u001b[22m\u001b[39m to `C:\\Users\\Zin Lin\\.julia\\environments\\v1.7\\Project.toml`\n",
      "\u001b[32m\u001b[1m  No Changes\u001b[22m\u001b[39m to `C:\\Users\\Zin Lin\\.julia\\environments\\v1.7\\Manifest.toml`\n",
      "\u001b[32m\u001b[1m   Resolving\u001b[22m\u001b[39m package versions...\n",
      "\u001b[32m\u001b[1m  No Changes\u001b[22m\u001b[39m to `C:\\Users\\Zin Lin\\.julia\\environments\\v1.7\\Project.toml`\n",
      "\u001b[32m\u001b[1m  No Changes\u001b[22m\u001b[39m to `C:\\Users\\Zin Lin\\.julia\\environments\\v1.7\\Manifest.toml`\n",
      "\u001b[32m\u001b[1m   Resolving\u001b[22m\u001b[39m package versions...\n",
      "\u001b[32m\u001b[1m  No Changes\u001b[22m\u001b[39m to `C:\\Users\\Zin Lin\\.julia\\environments\\v1.7\\Project.toml`\n",
      "\u001b[32m\u001b[1m  No Changes\u001b[22m\u001b[39m to `C:\\Users\\Zin Lin\\.julia\\environments\\v1.7\\Manifest.toml`\n"
     ]
    }
   ],
   "source": [
    "import Pkg; \n",
    "Pkg.add(\"FastChebInterp\");\n",
    "Pkg.add(\"ThreadsX\");\n",
    "Pkg.add(\"Zygote\");\n",
    "Pkg.add(\"Memoize\");\n",
    "Pkg.add(\"BenchmarkTools\");\n",
    "Pkg.add(\"Memoize\")\n",
    "Pkg.add(\"FiniteDifferences\")"
   ]
  },
  {
   "cell_type": "code",
   "execution_count": 12,
   "id": "1d696a08",
   "metadata": {},
   "outputs": [
    {
     "data": {
      "text/plain": [
       "end2end! (generic function with 2 methods)"
      ]
     },
     "execution_count": 12,
     "metadata": {},
     "output_type": "execute_result"
    }
   ],
   "source": [
    "using DelimitedFiles\n",
    "using FastChebInterp\n",
    "using ThreadsX\n",
    "using Base.Threads\n",
    "using Zygote\n",
    "using BenchmarkTools\n",
    "using Memoize\n",
    "using Profile\n",
    "\n",
    "const cheb = FastChebInterp.ChebPoly\n",
    "\n",
    "\"\"\"\n",
    "    getmodel\n",
    "\n",
    "Generates a chebyshev polynomial interpolated from the datafile. \n",
    "The latter must be in the format ipt, DoF, Re(t[freq1]), Im(t[freq2]) ... \n",
    "In other words, the dimensions of the datafile must be (order+1,2+2*nfreqs)\n",
    "\"\"\"\n",
    "function getmodel(lb,ub,filename)\n",
    "    dat = readdlm(filename,' ',Float64,'\\n')\n",
    "    dat = dat[:,3:end]'\n",
    "    dat = [dat[:,i] for i in 1:size(dat,2)]\n",
    "    model = chebinterp(dat,lb,ub)\n",
    "end\n",
    "\n",
    "function getmodels(lb,ub,filename)\n",
    "    \n",
    "    dat = readdlm(filename,' ',Float64,'\\n')\n",
    "    nfreqs = (size(dat,2)-2)÷2\n",
    "    models = Vector{cheb{1,ComplexF64,Float64}}(undef,nfreqs)\n",
    "    Threads.@threads for i in 1:nfreqs\n",
    "        models[i] = chebinterp(complex.(dat[:,3+2*(i-1)],dat[:,4+2*(i-1)]),lb,ub)\n",
    "    end\n",
    "    models\n",
    "end\n",
    "\n",
    "\"\"\"\n",
    "    eval2c!(F,∂F, model,p)\n",
    "\n",
    "In-place multi-threaded evaluation of meta-atom transmission coefficients for multiple frequencies using the chebyshev model. \n",
    "\n",
    "F and ∂F must be pre-allocated as\n",
    " F = Array{ComplexF64,2}(undef,#unit cells,#freqs)\n",
    "∂F = Array{ComplexF64,2}(undef,#unit cells,#freqs)\n",
    "\"\"\"\n",
    "function eval2c!(F,∂F, model::cheb,p::Vector{Float64})\n",
    "    ndof = size(p)[1]\n",
    "    Threads.@threads for i in 1:ndof\n",
    "        @inbounds t,∂t = chebjacobian(model,p[i])\n",
    "        @inbounds @views @.  F[i,:] = complex( t[1:2:end], t[2:2:end])\n",
    "        @inbounds @views @. ∂F[i,:] = complex(∂t[1:2:end],∂t[2:2:end])\n",
    "    end\n",
    "end\n",
    "\n",
    "function eval2c!(F,∂F, models::AbstractVector{<:cheb},p::AbstractVector)\n",
    "    Threads.@threads for c in CartesianIndices(F)\n",
    "        i,j = Tuple(c)\n",
    "        F[c],∂F[c] = chebgradient(models[j],p[i])\n",
    "    end\n",
    "end\n",
    "\n",
    "\"\"\"\n",
    "Explanation: for f(z=x+iy) ∈ ℜ, Zygote returns df = ∂f/∂x + i ∂f/∂y \n",
    "The Wirtinger derivative is ∂f/∂z = 1/2 (∂f/∂x - i ∂f/∂y) = 1/2 conj(df)\n",
    "The chain rule is ∂f/∂p = ∂f/∂z ∂z/∂p + ∂f/∂z' ∂z'/∂p = 2 real( ∂f/∂z ∂z/∂p ) = real( conj(df) ∂z/∂p ) \n",
    "Gradient vector gdat must be pre-allocated as\n",
    "gdat = Vector{Float64}(undef,#unit cells)\n",
    "\"\"\"\n",
    "# function end2end!(gdat, F,∂F, model::cheb, p::Vector{Float64}, getF!::Function, f::Function, fdat::Any)\n",
    "#     getF!(F,∂F, model,p)\n",
    "#     ret,back = Zygote.pullback(ξ->f(ξ,fdat),F)\n",
    "#     gdat[:] .= real.(vec(sum(conj.(back(1)[1]) .* ∂F, dims=2)))\n",
    "#     return ret\n",
    "# end\n",
    "\n",
    "function end2end!(gdat, F,∂F, models, p, getF!, f, fdat)\n",
    "    getF!(F,∂F, models,p)\n",
    "    ret,back = Zygote.pullback(ξ->f(ξ,fdat),F)\n",
    "    gdat[:] .= real.(vec(sum(conj.(back(1)[1]) .* ∂F, dims=2)))\n",
    "    return ret\n",
    "end\n",
    "\n",
    "\n",
    "# setup(;ncells::Int64=3000,npix::Int64=500,nintg::Int64=5,nspatl::Int64=120,\n",
    "#        Dz::Float64=5000, freqs::Vector{Float64}=[1.2,1.1,1.0,0.9,0.8],\n",
    "#        lb::Float64=0.11,ub::Float64=0.68,\n",
    "#        filename::String=\"alldat_5wavs.dat\", \n",
    "#        kwargs...)"
   ]
  },
  {
   "cell_type": "code",
   "execution_count": 14,
   "id": "ce438346",
   "metadata": {},
   "outputs": [
    {
     "name": "stdout",
     "output_type": "stream",
     "text": [
      "  35.684 s (133 allocations: 7.00 KiB)\n"
     ]
    }
   ],
   "source": [
    "lb,ub=0.11,0.68\n",
    "filename=\"alldat_5wavs.dat\"\n",
    "models = getmodels(lb,ub,filename)\n",
    "ncells = 10000000\n",
    "p = rand(lb:0.01/ncells:ub,ncells)\n",
    "F = Array{ComplexF64,2}(undef,ncells,5)\n",
    "∂F = Array{ComplexF64,2}(undef,ncells,5)\n",
    "@btime eval2c!($F,$∂F, $models, $p);"
   ]
  },
  {
   "cell_type": "code",
   "execution_count": 7,
   "id": "dee36845",
   "metadata": {},
   "outputs": [
    {
     "data": {
      "text/plain": [
       "BenchmarkTools.Trial: 1 sample with 1 evaluation.\n",
       " Single result which took \u001b[34m10.074 s\u001b[39m (0.01% GC) to evaluate,\n",
       " with a memory estimate of \u001b[33m991.83 MiB\u001b[39m, over \u001b[33m109\u001b[39m allocations."
      ]
     },
     "execution_count": 7,
     "metadata": {},
     "output_type": "execute_result"
    }
   ],
   "source": [
    "lb,ub=0.11,0.68\n",
    "filename=\"alldat_5wavs.dat\"\n",
    "model = getmodel(lb,ub,filename)\n",
    "ncells = 10000000\n",
    "p = rand(lb:0.01/ncells:ub,ncells)\n",
    "F = Array{ComplexF64,2}(undef,ncells,5)\n",
    "∂F = Array{ComplexF64,2}(undef,ncells,5)\n",
    "#@btime eval2c!($F,$∂F, $model, $p);\n",
    "\n",
    "function f(F,fdat)\n",
    "    #sum(real.(F).*imag.(F).^2)\n",
    "    real(sum(F))\n",
    "end\n",
    "\n",
    "gdat = Vector{Float64}(undef,ncells)\n",
    "bch = @benchmark end2end!($gdat, $F,$∂F, $model,$p, $eval2c!, $f, Nothing)\n",
    "#Profile.Allocs.@profile end2end!(gdat, F,∂F, model,p, eval2c!, f, Nothing)"
   ]
  },
  {
   "cell_type": "code",
   "execution_count": 14,
   "id": "05ec90fd",
   "metadata": {},
   "outputs": [
    {
     "data": {
      "text/plain": [
       "Profile.Allocs.AllocResults(Profile.Allocs.Alloc[Profile.Allocs.Alloc(Vector{Any}, Base.StackTraces.StackFrame[maybe_record_alloc_to_profile at gc-alloc-profiler.h:42 [inlined], ...], 88), Profile.Allocs.Alloc(Profile.Allocs.UnknownType, Base.StackTraces.StackFrame[maybe_record_alloc_to_profile at gc-alloc-profiler.h:42 [inlined], ...], 16), Profile.Allocs.Alloc(Vector{Any}, Base.StackTraces.StackFrame[maybe_record_alloc_to_profile at gc-alloc-profiler.h:42 [inlined], ...], 56), Profile.Allocs.Alloc(Profile.Allocs.UnknownType, Base.StackTraces.StackFrame[maybe_record_alloc_to_profile at gc-alloc-profiler.h:42 [inlined], ...], 16), Profile.Allocs.Alloc(Profile.Allocs.UnknownType, Base.StackTraces.StackFrame[maybe_record_alloc_to_profile at gc-alloc-profiler.h:42 [inlined], ...], 16), Profile.Allocs.Alloc(Vector{Vector{Pair{Core.Compiler.NewSSAValue, Core.PhiNode}}}, Base.StackTraces.StackFrame[maybe_record_alloc_to_profile at gc-alloc-profiler.h:42 [inlined], ...], 48), Profile.Allocs.Alloc(Profile.Allocs.UnknownType, Base.StackTraces.StackFrame[maybe_record_alloc_to_profile at gc-alloc-profiler.h:42 [inlined], ...], 16), Profile.Allocs.Alloc(Profile.Allocs.UnknownType, Base.StackTraces.StackFrame[maybe_record_alloc_to_profile at gc-alloc-profiler.h:42 [inlined], ...], 48), Profile.Allocs.Alloc(Profile.Allocs.UnknownType, Base.StackTraces.StackFrame[maybe_record_alloc_to_profile at gc-alloc-profiler.h:42 [inlined], ...], 32), Profile.Allocs.Alloc(Profile.Allocs.UnknownType, Base.StackTraces.StackFrame[maybe_record_alloc_to_profile at gc-alloc-profiler.h:42 [inlined], ...], 16), Profile.Allocs.Alloc(Profile.Allocs.UnknownType, Base.StackTraces.StackFrame[maybe_record_alloc_to_profile at gc-alloc-profiler.h:42 [inlined], ...], 16), Profile.Allocs.Alloc(Profile.Allocs.UnknownType, Base.StackTraces.StackFrame[maybe_record_alloc_to_profile at gc-alloc-profiler.h:42 [inlined], ...], 32), Profile.Allocs.Alloc(Profile.Allocs.UnknownType, Base.StackTraces.StackFrame[maybe_record_alloc_to_profile at gc-alloc-profiler.h:42 [inlined], ...], 32), Profile.Allocs.Alloc(Vector{Int64}, Base.StackTraces.StackFrame[maybe_record_alloc_to_profile at gc-alloc-profiler.h:42 [inlined], ...], 56), Profile.Allocs.Alloc(Vector{Int32}, Base.StackTraces.StackFrame[maybe_record_alloc_to_profile at gc-alloc-profiler.h:42 [inlined], ...], 68), Profile.Allocs.Alloc(Profile.Allocs.UnknownType, Base.StackTraces.StackFrame[maybe_record_alloc_to_profile at gc-alloc-profiler.h:42 [inlined], ...], 16), Profile.Allocs.Alloc(Profile.Allocs.UnknownType, Base.StackTraces.StackFrame[maybe_record_alloc_to_profile at gc-alloc-profiler.h:42 [inlined], ...], 16)])"
      ]
     },
     "execution_count": 14,
     "metadata": {},
     "output_type": "execute_result"
    }
   ],
   "source": [
    "Profile.Allocs.fetch()"
   ]
  },
  {
   "cell_type": "code",
   "execution_count": 4,
   "id": "9125ba27",
   "metadata": {},
   "outputs": [
    {
     "name": "stderr",
     "output_type": "stream",
     "text": [
      "\u001b[32m\u001b[1m    Updating\u001b[22m\u001b[39m registry at `C:\\Users\\zinli\\.julia\\registries\\General.toml`\n",
      "\u001b[32m\u001b[1m   Resolving\u001b[22m\u001b[39m package versions...\n",
      "\u001b[32m\u001b[1m    Updating\u001b[22m\u001b[39m `C:\\Users\\zinli\\.julia\\environments\\v1.8\\Project.toml`\n",
      " \u001b[90m [9abbd945] \u001b[39m\u001b[92m+ Profile\u001b[39m\n",
      "\u001b[32m\u001b[1m  No Changes\u001b[22m\u001b[39m to `C:\\Users\\zinli\\.julia\\environments\\v1.8\\Manifest.toml`\n"
     ]
    }
   ],
   "source": [
    "import Pkg; Pkg.add(\"Profile\")"
   ]
  },
  {
   "cell_type": "code",
   "execution_count": 13,
   "id": "9821b94b",
   "metadata": {},
   "outputs": [
    {
     "data": {
      "text/plain": [
       "1.0969977172819404e-5"
      ]
     },
     "execution_count": 13,
     "metadata": {},
     "output_type": "execute_result"
    }
   ],
   "source": [
    "using FiniteDifferences\n",
    "using LinearAlgebra\n",
    "lb,ub=0.11,0.68\n",
    "filename=\"alldat_5wavs.dat\"\n",
    "models = getmodels(lb,ub,filename)\n",
    "ncells = 1000\n",
    "p = rand(1.2*lb:0.01/ncells:0.8*ub,ncells)\n",
    "F = Array{ComplexF64,2}(undef,ncells,5)\n",
    "∂F = Array{ComplexF64,2}(undef,ncells,5)\n",
    "gdat = Vector{Float64}(undef,ncells)\n",
    "function f2(F,fdat)\n",
    "    sum(real.(F).*imag.(F).^2)\n",
    "end\n",
    "end2end!(gdat, F,∂F, model,p, eval2c!, f2, Nothing)\n",
    "tmp(x) = end2end!(gdat, F,∂F, models,x, eval2c!, f2, Nothing) \n",
    "Δ = grad(central_fdm(5,1), tmp, p)[1]\n",
    "maximum( abs.(Δ .- gdat)[1:end-1] )/mean(abs.(Δ))"
   ]
  },
  {
   "cell_type": "code",
   "execution_count": 91,
   "id": "1b3b762b",
   "metadata": {},
   "outputs": [
    {
     "data": {
      "text/plain": [
       "3×3 Matrix{Float64}:\n",
       " 0.5115    0.107716  0.761931\n",
       " 0.436962  0.737397  0.0375001\n",
       " 0.709564  0.873515  0.116737"
      ]
     },
     "metadata": {},
     "output_type": "display_data"
    },
    {
     "data": {
      "text/plain": [
       "3-element Vector{Float64}:\n",
       " 1.3811471203333312\n",
       " 1.2118592808459214\n",
       " 1.6998166289301033"
      ]
     },
     "execution_count": 91,
     "metadata": {},
     "output_type": "execute_result"
    }
   ],
   "source": [
    "a = rand(3,3)\n",
    "display(a)\n",
    "sum(a,dims=2)[:,1]"
   ]
  },
  {
   "cell_type": "code",
   "execution_count": null,
   "id": "2b189e29",
   "metadata": {},
   "outputs": [],
   "source": []
  }
 ],
 "metadata": {
  "kernelspec": {
   "display_name": "Julia (8 threads) 1.8.5",
   "language": "julia",
   "name": "julia-_8-threads_-1.8"
  },
  "language_info": {
   "file_extension": ".jl",
   "mimetype": "application/julia",
   "name": "julia",
   "version": "1.8.5"
  }
 },
 "nbformat": 4,
 "nbformat_minor": 5
}
