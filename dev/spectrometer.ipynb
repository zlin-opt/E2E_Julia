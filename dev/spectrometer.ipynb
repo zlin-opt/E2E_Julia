{
 "cells": [
  {
   "cell_type": "code",
   "execution_count": 29,
   "metadata": {},
   "outputs": [],
   "source": [
    "using LinearAlgebra\n",
    "using Zygote\n",
    "using ChainRulesCore\n",
    "using Base.Threads\n",
    "\n",
    "function F2G(F,nintg)\n",
    "    \n",
    "    ncells=Int64(sqrt(size(F)[1]))\n",
    "    npix = ncells÷nintg\n",
    "    nfreqs=size(F)[2]\n",
    "    @views sum(reshape(abs2.(F),(nintg,npix,nintg,npix,nfreqs)),dims=(1,3))[1,:,1,:,:]\n",
    "\n",
    "end\n",
    "\n",
    "function G2mse(G,W,u,η)\n",
    "    nλ = size(W)[1]\n",
    "    m = size(u)[1]÷nλ\n",
    "    norm(W*(G*u + η) - sum(reshape(u,(m,nλ)),dims=1)[1,:])\n",
    "end\n",
    "\n",
    "function loss(G,W,uη)\n",
    "    println(\"Don't call me. I do nothing.\")\n",
    "    Nothing\n",
    "end\n",
    "\n",
    "function ChainRulesCore.rrule(::typeof(loss), G,W,uη)\n",
    "    \n",
    "    ret = 0.0\n",
    "    n = size(uη)[1]\n",
    "    function loss_pullback(vec)\n",
    "        ∂G = zeros(size(G))\n",
    "        ∂W = zeros(size(W))\n",
    "        Threads.@threads for (u,η) in uη\n",
    "            mse,back = Zygote.pullback((x,y)->G2mse(x,y,u,η),G,W)\n",
    "            ret = ret + mse\n",
    "            ∂G .+= back(1)[1]\n",
    "            ∂W .+= back(1)[2]\n",
    "        end\n",
    "        NoTangent(), ∂G/n, ∂W/n, ZeroTangent()\n",
    "    end\n",
    "    ret/n, loss_pullback\n",
    "end"
   ]
  },
  {
   "cell_type": "code",
   "execution_count": 30,
   "metadata": {},
   "outputs": [
    {
     "name": "stdout",
     "output_type": "stream",
     "text": [
      "10\n"
     ]
    },
    {
     "data": {
      "text/plain": [
       "([1.703297536905581 1.477335939744295 … 0.9814537029159867 1.1402620009897428; 1.7403361750995319 1.509402482103013 … 1.0027940118738778 1.165009572492453; … ; 1.4903388174930325 1.2926566905944816 … 0.8586643919158201 0.9975950415594343; 1.4438051414085706 1.2522688798319357 … 0.8319212409742238 0.9665246425227256], [5.135948594112162 5.473425119619742 … 4.751541173340523 4.827891351480451; 4.78148060257274 5.095352787541089 … 4.423594989023461 4.494529199957237; … ; 5.045927817927058 5.377833647056707 … 4.668325271663655 4.743166678056749; 5.0196448859538165 5.349425132100313 … 4.6438339923382435 4.718517327965918], nothing)"
      ]
     },
     "execution_count": 30,
     "metadata": {},
     "output_type": "execute_result"
    }
   ],
   "source": [
    "M,m,n=25,100,100\n",
    "W=rand(M,m)\n",
    "G=rand(m,n)\n",
    "u=rand(n)\n",
    "η=rand(m)\n",
    "G2mse(G,W,u,η)\n",
    "uη = [(rand(m),rand(n)) for i in 1:10]\n",
    "println(size(uη)[1])\n",
    "(u,η) = uη[2]\n",
    "ret,back = Zygote.pullback(loss,G,W,uη)\n",
    "back(1)\n"
   ]
  },
  {
   "cell_type": "code",
   "execution_count": 6,
   "metadata": {},
   "outputs": [
    {
     "data": {
      "text/plain": [
       "6×6 reshape(::StepRange{Int64, Int64}, 6, 6) with eltype Int64:\n",
       " 1   7  13  19  25  31\n",
       " 2   8  14  20  26  32\n",
       " 3   9  15  21  27  33\n",
       " 4  10  16  22  28  34\n",
       " 5  11  17  23  29  35\n",
       " 6  12  18  24  30  36"
      ]
     },
     "metadata": {},
     "output_type": "display_data"
    },
    {
     "data": {
      "text/plain": [
       "6×6 reshape(::StepRange{Int64, Int64}, 6, 6) with eltype Int64:\n",
       " 1   7  13  19  25  31\n",
       " 2   8  14  20  26  32\n",
       " 3   9  15  21  27  33\n",
       " 4  10  16  22  28  34\n",
       " 5  11  17  23  29  35\n",
       " 6  12  18  24  30  36"
      ]
     },
     "metadata": {},
     "output_type": "display_data"
    },
    {
     "data": {
      "text/plain": [
       "3×3 Matrix{Int64}:\n",
       " 18  66  114\n",
       " 26  74  122\n",
       " 34  82  130"
      ]
     },
     "metadata": {},
     "output_type": "display_data"
    },
    {
     "data": {
      "text/plain": [
       "(36,)"
      ]
     },
     "metadata": {},
     "output_type": "display_data"
    },
    {
     "data": {
      "text/plain": [
       "3×3 Matrix{Int64}:\n",
       " 18  66  114\n",
       " 26  74  122\n",
       " 34  82  130"
      ]
     },
     "metadata": {},
     "output_type": "display_data"
    },
    {
     "data": {
      "text/plain": [
       "1:1:36"
      ]
     },
     "metadata": {},
     "output_type": "display_data"
    },
    {
     "data": {
      "text/plain": [
       "12-element Vector{Int64}:\n",
       "   6\n",
       "  15\n",
       "  24\n",
       "  33\n",
       "  42\n",
       "  51\n",
       "  60\n",
       "  69\n",
       "  78\n",
       "  87\n",
       "  96\n",
       " 105"
      ]
     },
     "metadata": {},
     "output_type": "display_data"
    },
    {
     "data": {
      "text/plain": [
       "6×6 Matrix{Float64}:\n",
       " 0.0  0.0  0.0  0.0  0.0  0.0\n",
       " 0.0  0.0  0.0  0.0  0.0  0.0\n",
       " 0.0  0.0  0.0  0.0  0.0  0.0\n",
       " 0.0  0.0  0.0  0.0  0.0  0.0\n",
       " 0.0  0.0  0.0  0.0  0.0  0.0\n",
       " 0.0  0.0  0.0  0.0  0.0  0.0"
      ]
     },
     "metadata": {},
     "output_type": "display_data"
    },
    {
     "name": "stdout",
     "output_type": "stream",
     "text": [
      "(1, 2)\n",
      "(2, 2)\n",
      "(3, 4)\n",
      "(CartesianIndex(1, 1), 1, 1)\n",
      "(CartesianIndex(2, 1), 2, 1)\n",
      "(CartesianIndex(3, 1), 3, 1)\n",
      "(CartesianIndex(4, 1), 4, 1)\n",
      "(CartesianIndex(5, 1), 5, 1)\n",
      "(CartesianIndex(6, 1), 6, 1)\n",
      "(CartesianIndex(1, 2), 1, 2)\n",
      "(CartesianIndex(2, 2), 2, 2)\n",
      "(CartesianIndex(3, 2), 3, 2)\n",
      "(CartesianIndex(4, 2), 4, 2)\n",
      "(CartesianIndex(5, 2), 5, 2)\n",
      "(CartesianIndex(6, 2), 6, 2)\n",
      "(CartesianIndex(1, 3), 1, 3)\n",
      "(CartesianIndex(2, 3), 2, 3)\n",
      "(CartesianIndex(3, 3), 3, 3)\n",
      "(CartesianIndex(4, 3), 4, 3)\n",
      "(CartesianIndex(5, 3), 5, 3)\n",
      "(CartesianIndex(6, 3), 6, 3)\n",
      "(CartesianIndex(1, 4), 1, 4)\n",
      "(CartesianIndex(2, 4), 2, 4)\n",
      "(CartesianIndex(3, 4), 3, 4)\n",
      "(CartesianIndex(4, 4), 4, 4)\n",
      "(CartesianIndex(5, 4), 5, 4)\n",
      "(CartesianIndex(6, 4), 6, 4)\n",
      "(CartesianIndex(1, 5), 1, 5)\n",
      "(CartesianIndex(2, 5), 2, 5)\n",
      "(CartesianIndex(3, 5), 3, 5)\n",
      "(CartesianIndex(4, 5), 4, 5)\n",
      "(CartesianIndex(5, 5), 5, 5)\n",
      "(CartesianIndex(6, 5), 6, 5)\n",
      "(CartesianIndex(1, 6), 1, 6)\n",
      "(CartesianIndex(2, 6), 2, 6)\n",
      "(CartesianIndex(3, 6), 3, 6)\n",
      "(CartesianIndex(4, 6), 4, 6)\n",
      "(CartesianIndex(5, 6), 5, 6)\n",
      "(CartesianIndex(6, 6), 6, 6)\n"
     ]
    }
   ],
   "source": [
    "a=reshape(1:1:36,(6,6))\n",
    "display(a)\n",
    "display(reshape(vec(a),(6,6)))\n",
    "display(sum(reshape(a,(2,3,2,3)),dims=(1,3))[1,:,1,:])\n",
    "b = vec(a)\n",
    "display(size(b))\n",
    "display(sum(reshape(b,(2,3,2,3)),dims=(1,3))[1,:,1,:])\n",
    "display(b)\n",
    "display(sum(reshape(b,(3,12)),dims=1)[1,:])\n",
    "c = zeros(size(a))\n",
    "display(c)\n",
    "ij = [(1,2),(2,2),(3,4)]\n",
    "for (i,j) in ij\n",
    "    println((i,j))\n",
    "end\n",
    "for CartesianIndex in CartesianIndices(a)\n",
    "    println((CartesianIndex,CartesianIndex[1],CartesianIndex[2]))\n",
    "end"
   ]
  },
  {
   "cell_type": "code",
   "execution_count": 7,
   "metadata": {},
   "outputs": [
    {
     "data": {
      "text/plain": [
       "([0.6120183608262413, 1.9040571225705285], [3.6721101649574477, 25.704771154702133])"
      ]
     },
     "execution_count": 7,
     "metadata": {},
     "output_type": "execute_result"
    }
   ],
   "source": [
    "function f(x,y)\n",
    "    norm(x.^2 .+ y.^3)\n",
    "end\n",
    "f([1,1],[2,3])\n",
    "Zygote.gradient(f,[1,1],[2,3])"
   ]
  },
  {
   "cell_type": "code",
   "execution_count": null,
   "metadata": {},
   "outputs": [],
   "source": []
  }
 ],
 "metadata": {
  "kernelspec": {
   "display_name": "Julia (8 threads) 1.8.5",
   "language": "julia",
   "name": "julia-_8-threads_-1.8"
  },
  "language_info": {
   "file_extension": ".jl",
   "mimetype": "application/julia",
   "name": "julia",
   "version": "1.8.5"
  }
 },
 "nbformat": 4,
 "nbformat_minor": 2
}
