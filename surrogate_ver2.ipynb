{
 "cells": [
  {
   "cell_type": "code",
   "execution_count": null,
   "id": "e7738378",
   "metadata": {},
   "outputs": [],
   "source": [
    "import Pkg; \n",
    "Pkg.add(\"FastChebInterp\");\n",
    "Pkg.add(\"ThreadsX\");\n",
    "Pkg.add(\"Zygote\");\n",
    "Pkg.add(\"Memoize\");"
   ]
  },
  {
   "cell_type": "code",
   "execution_count": 5,
   "id": "1d696a08",
   "metadata": {},
   "outputs": [
    {
     "data": {
      "text/plain": [
       "end2end (generic function with 1 method)"
      ]
     },
     "execution_count": 5,
     "metadata": {},
     "output_type": "execute_result"
    }
   ],
   "source": [
    "using DelimitedFiles\n",
    "using FastChebInterp\n",
    "using ThreadsX\n",
    "using Base.Threads\n",
    "using Zygote\n",
    "using BenchmarkTools\n",
    "using Memoize\n",
    "\n",
    "const c∂tup{N} = Tuple{Array{ComplexF64,N},Array{ComplexF64,N}}\n",
    "const r∂tup = Tuple{Float64,Vector{Float64}}\n",
    "const cheb = FastChebInterp.ChebPoly\n",
    "\n",
    "\"\"\"\n",
    "    getmodel\n",
    "\n",
    "Generates a chebyshev polynomial interpolated from the datafile. \n",
    "The latter must be in the format ipt, DoF, Re(t[freq1]), Im(t[freq2]) ... \n",
    "In other words, the dimensions of the datafile must be (order+1,2+2*nfreqs)\n",
    "\"\"\"\n",
    "function getmodel(lb,ub,filename)\n",
    "    dat = readdlm(filename,' ',Float64,'\\n')\n",
    "    dat = dat[:,3:end]'\n",
    "    dat = [dat[:,i] for i in 1:size(dat,2)]\n",
    "    model = chebinterp(dat,lb,ub)\n",
    "end\n",
    "\n",
    "\"\"\"\n",
    "    eval2c\n",
    "\n",
    "Multi-threaded evaluation of meta-atom transmission coefficients \n",
    "for multiple frequencies using the chebyshev \"model\". \n",
    "\"\"\"\n",
    "\n",
    "@memoize function wrapcheb(model::cheb,p::Float64)\n",
    "    chebjacobian(model,p)\n",
    "end\n",
    "\n",
    "function eval2c(model::cheb,p::Vector{Float64};moi::Bool=false)::c∂tup{2}\n",
    "    ndof = size(p)[1]\n",
    "    nfreqs = size(model(p[1]))[1]÷2\n",
    "    F = Array{ComplexF64,2}(undef,ndof,nfreqs)\n",
    "    ∂F = Array{ComplexF64,2}(undef,ndof,nfreqs)\n",
    "    Threads.@threads for i in 1:ndof\n",
    "        if moi==true\n",
    "            @inbounds t = wrapcheb(model,p[i])\n",
    "        else\n",
    "            @inbounds t = chebjacobian(model,p[i])\n",
    "        end\n",
    "        @inbounds @views F[i,:]  .= t[1][1:2:end] .+ im * t[1][2:2:end]\n",
    "        @inbounds @views ∂F[i,:] .= t[2][1:2:end] .+ im * t[2][2:2:end]\n",
    "    end\n",
    "    (F,∂F)\n",
    "end\n",
    "\n",
    "function end2end(model::cheb, p::Vector{Float64}, getF::Function, f::Function, fdat::Any)::r∂tup\n",
    "    F,∂F = getF(model,p)\n",
    "    ret,back = Zygote.pullback(ξ->f(ξ,fdat),F)\n",
    "    (ret, real.(sum(conj.(back(1)[1]).*∂F, dims=2))[:,1])\n",
    "end\n",
    "\n",
    "\n",
    "# setup(;ncells::Int64=3000,npix::Int64=500,nintg::Int64=5,nspatl::Int64=120,\n",
    "#        Dz::Float64=5000, freqs::Vector{Float64}=[1.2,1.1,1.0,0.9,0.8],\n",
    "#        lb::Float64=0.11,ub::Float64=0.68,\n",
    "#        filename::String=\"alldat_5wavs.dat\", \n",
    "#        kwargs...)"
   ]
  },
  {
   "cell_type": "code",
   "execution_count": 6,
   "id": "dee36845",
   "metadata": {},
   "outputs": [
    {
     "name": "stdout",
     "output_type": "stream",
     "text": [
      "  9.380 s (18000075 allocations: 3.82 GiB)\n"
     ]
    },
    {
     "data": {
      "text/plain": [
       "9000000×5 Matrix{ComplexF64}:\n",
       "   0.216324+0.0615456im      0.428683-0.252186im   …   -0.168921+0.376084im\n",
       "   0.496724+0.209764im      -0.487921-0.105827im        0.434532+0.351672im\n",
       "   0.510531-0.347361im      -0.574915+0.0140278im       -0.12277+0.549228im\n",
       "   0.493134+0.109135im       0.110919-0.122127im         0.24294+0.142552im\n",
       "   0.154665-0.39737im       -0.216191-0.532624im       -0.474834+0.576495im\n",
       "   0.215984+0.336301im     -0.0711706+0.0919682im  …    0.156992+0.101803im\n",
       "  -0.276101-0.392033im       0.252094-0.212244im        0.118452+0.183981im\n",
       "   0.544555-0.258547im      -0.441464-0.44301im       -0.0358631+0.0585361im\n",
       "   0.507922-0.519292im      -0.361114-0.333995im       -0.730169+0.117613im\n",
       " -0.0512592-0.417539im       0.417643-0.156095im       -0.173691+0.258694im\n",
       "   0.341069+0.109064im      -0.198795-0.323981im   …     0.12124+0.426028im\n",
       "   0.293174-0.334204im       0.168859-0.553083im        0.261522+0.63242im\n",
       "   0.520892+0.119029im      -0.411917-0.405262im      -0.0556079+0.201938im\n",
       "           ⋮                                       ⋱  \n",
       "    0.35183-0.190311im     -0.0699396-0.720717im        0.700703+0.227666im\n",
       "    0.35412-0.194086im     -0.0778775-0.719866im        0.708717+0.201475im\n",
       "   0.505424-0.344158im      -0.575136+0.0189482im  …   -0.117322+0.55106im\n",
       "   0.288755-0.17408im       -0.537812+0.0243143im      -0.287483-0.0286701im\n",
       "   0.145363-0.166296im      -0.589898-0.243002im       0.0678738+0.111991im\n",
       "   0.551639-0.199462im      -0.325021-0.642942im       -0.198433-0.697037im\n",
       "   0.489831-0.00639395im  -0.00891727-0.150213im        0.144863-0.214073im\n",
       "   0.360047-0.557546im       -0.35345+0.368905im   …    0.137639+0.501053im\n",
       "   0.151798+0.175423im      -0.157704-0.255935im        0.439628+0.200067im\n",
       "   0.467896+0.066879im      -0.450711+0.0711674im       0.519991+0.218961im\n",
       "   0.370897-0.293456im      -0.579551+0.0667284im     -0.0649794+0.561959im\n",
       "   0.569333+0.367052im       0.347624-0.648583im       -0.141941+0.740932im"
      ]
     },
     "metadata": {},
     "output_type": "display_data"
    }
   ],
   "source": [
    "lb,ub=0.11,0.68\n",
    "filename=\"alldat_5wavs.dat\"\n",
    "model = getmodel(lb,ub,filename)\n",
    "(F,∂F) = @btime eval2c(model,rand(lb:0.0000000001:ub,9000000),moi=false);\n",
    "(F,∂F) = @btime eval2c(model,rand(lb:0.0000000001:ub,9000000),moi=true);"
   ]
  },
  {
   "cell_type": "code",
   "execution_count": 3,
   "id": "deeaf949",
   "metadata": {},
   "outputs": [
    {
     "data": {
      "text/plain": [
       "ChebPoly{1,StaticArraysCore.SVector{10, Float64},Float64} order (999,) polynomial on [0.11,0.68]"
      ]
     },
     "execution_count": 3,
     "metadata": {},
     "output_type": "execute_result"
    }
   ],
   "source": [
    "model"
   ]
  },
  {
   "cell_type": "code",
   "execution_count": 4,
   "id": "68d4c3d4",
   "metadata": {},
   "outputs": [
    {
     "name": "stdout",
     "output_type": "stream",
     "text": [
      "  3.264581 seconds (2.65 M allocations: 372.743 MiB, 3.64% gc time, 4.86% compilation time)\n",
      "  2.211243 seconds (12.09 M allocations: 1.892 GiB, 14.39% gc time, 49.65% compilation time)\n",
      "  3.140972 seconds (2.05 M allocations: 338.568 MiB, 2.84% gc time, 1.11% compilation time)\n",
      "  1.186752 seconds (7.33 M allocations: 1.645 GiB, 14.99% gc time, 9.32% compilation time)\n",
      "  3.123095 seconds (2.05 M allocations: 338.560 MiB, 1.20% gc time, 1.15% compilation time)\n",
      "  1.152620 seconds (7.33 M allocations: 1.645 GiB, 10.71% gc time, 20.91% compilation time)\n",
      "  1.110561 seconds (664.40 k allocations: 984.273 MiB, 12.98% gc time, 23.32% compilation time)\n",
      "  0.817125 seconds (1.38 k allocations: 949.722 MiB, 4.65% gc time)\n",
      "  0.811426 seconds (1.37 k allocations: 949.722 MiB)\n",
      "hello\n"
     ]
    }
   ],
   "source": [
    "function evalmodel(model::Any,p::Vector{Float64})\n",
    "    ThreadsX.map(a->chebjacobian(model,a),p)\n",
    "end\n",
    "\n",
    "function r2c(t)\n",
    "    nrows = size(t)[1]\n",
    "    ncols = size(t[1][1])[1]÷2\n",
    "    F = Array{ComplexF64,2}(undef,nrows,ncols)\n",
    "    ∂F = Array{ComplexF64,2}(undef,nrows,ncols)\n",
    "    Threads.@threads for i in 1:nrows\n",
    "        F[i,:]  = t[i][1][1:2:end] + im * t[i][1][2:2:end]\n",
    "        ∂F[i,:] = t[i][2][1:2:end] + im * t[i][2][2:2:end]\n",
    "    end\n",
    "    (F,∂F)\n",
    "end\n",
    "\n",
    "lb,ub=0.11,0.68\n",
    "filename=\"alldat_5wavs.dat\"\n",
    "model = getmodel(lb,ub,filename)\n",
    "\n",
    "x = rand(lb:0.000000001:ub,1000000)\n",
    "@time map(a->chebjacobian(model,a),x);\n",
    "@time ThreadsX.map(a->chebjacobian(model,a),x);\n",
    "x = rand(lb:0.000000001:ub,1000000)\n",
    "@time map(a->chebjacobian(model,a),x);\n",
    "@time ThreadsX.map(a->chebjacobian(model,a),x);\n",
    "x = rand(lb:0.000000001:ub,1000000)\n",
    "@time map(a->chebjacobian(model,a),x);\n",
    "@time ThreadsX.map(a->chebjacobian(model,a),x);\n",
    "\n",
    "\n",
    "p = rand(lb:0.000000001:ub,1000000)\n",
    "@time evalmodel(model,p);\n",
    "p = rand(lb:0.000000001:ub,1000000)\n",
    "@time evalmodel(model,p);\n",
    "p = rand(lb:0.000000001:ub,1000000)\n",
    "@time evalmodel(model,p);\n",
    "\n",
    "println(\"hello\")"
   ]
  },
  {
   "cell_type": "code",
   "execution_count": 7,
   "id": "f37814e8",
   "metadata": {},
   "outputs": [
    {
     "name": "stdout",
     "output_type": "stream",
     "text": [
      "  0.048871 seconds (4.79 k allocations: 178.695 KiB, 99.84% compilation time)\n",
      "  0.000049 seconds (54 allocations: 7.688 KiB)\n"
     ]
    },
    {
     "data": {
      "text/plain": [
       "Tuple{Float64, Vector{Float64}}"
      ]
     },
     "execution_count": 7,
     "metadata": {},
     "output_type": "execute_result"
    }
   ],
   "source": [
    "function f(F::Array{ComplexF64,2})::Float64\n",
    "    #sum(abs2.(F))\n",
    "    sum(real.(F.^2) + 2.0*imag.(F))\n",
    "end\n",
    "\n",
    "function makeF(p::Vector{Float64})::c∂tup{2}\n",
    "    F = reduce(hcat,(1+2im)*[p,p,p])\n",
    "    tmp = ones(size(p))\n",
    "    ∂F = reduce(hcat,(1+2im)*[tmp,tmp,tmp])\n",
    "    (F,∂F)\n",
    "end\n",
    "\n",
    "function e2e(p::Vector{Float64},getF::Function,obj::Function)::r∂tup\n",
    "    F,∂F = getF(p)\n",
    "    ret,back = Zygote.pullback(obj,F)\n",
    "    (ret, real.(sum(conj.(back(1)[1]).*∂F, dims=2))[:,1])\n",
    "end\n",
    "    \n",
    "p=[1.,2.,3.]\n",
    "@time e2e(p,makeF,f)\n",
    "p=rand(10)\n",
    "@time a = e2e(p,makeF,f)\n",
    "typeof(a)"
   ]
  }
 ],
 "metadata": {
  "kernelspec": {
   "display_name": "Julia (8 threads) 1.8.5",
   "language": "julia",
   "name": "julia-_8-threads_-1.8"
  },
  "language_info": {
   "file_extension": ".jl",
   "mimetype": "application/julia",
   "name": "julia",
   "version": "1.8.5"
  }
 },
 "nbformat": 4,
 "nbformat_minor": 5
}
