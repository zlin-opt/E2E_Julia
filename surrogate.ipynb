{
 "cells": [
  {
   "cell_type": "code",
   "execution_count": null,
   "id": "e7738378",
   "metadata": {},
   "outputs": [],
   "source": [
    "import Pkg; \n",
    "Pkg.add(\"FastChebInterp\");\n",
    "Pkg.add(\"ThreadsX\");\n",
    "Pkg.add(\"Zygote\");\n",
    "Pkg.add(\"Memoize\");"
   ]
  },
  {
   "cell_type": "code",
   "execution_count": 6,
   "id": "1d696a08",
   "metadata": {},
   "outputs": [
    {
     "data": {
      "text/plain": [
       "end2end (generic function with 1 method)"
      ]
     },
     "execution_count": 6,
     "metadata": {},
     "output_type": "execute_result"
    }
   ],
   "source": [
    "using DelimitedFiles\n",
    "using FastChebInterp\n",
    "using ThreadsX\n",
    "using Base.Threads\n",
    "using Zygote\n",
    "using BenchmarkTools\n",
    "using Memoize\n",
    "\n",
    "const c∂tup{N} = Tuple{Array{ComplexF64,N},Array{ComplexF64,N}}\n",
    "const r∂tup = Tuple{Float64,Vector{Float64}}\n",
    "const cheb = FastChebInterp.ChebPoly\n",
    "\n",
    "\"\"\"\n",
    "    getmodel\n",
    "\n",
    "Generates a chebyshev polynomial interpolated from the datafile. \n",
    "The latter must be in the format ipt, DoF, Re(t[freq1]), Im(t[freq2]) ... \n",
    "In other words, the dimensions of the datafile must be (order+1,2+2*nfreqs)\n",
    "\"\"\"\n",
    "function getmodel(lb,ub,filename)\n",
    "    dat = readdlm(filename,' ',Float64,'\\n')\n",
    "    dat = dat[:,3:end]'\n",
    "    dat = [dat[:,i] for i in 1:size(dat,2)]\n",
    "    model = chebinterp(dat,lb,ub)\n",
    "end\n",
    "\n",
    "\"\"\"\n",
    "    eval2c\n",
    "\n",
    "Multi-threaded evaluation of meta-atom transmission coefficients \n",
    "for multiple frequencies using the chebyshev \"model\". \n",
    "With memoize: Known benchmark: 9 million 5 freqs (=90 mil evals) of a 1000-degree poly take 100 nano-sec on 8 threads!\n",
    "\"\"\"\n",
    "@memoize function eval2c(model::cheb,p::Vector{Float64})::c∂tup{2}\n",
    "    ndof = size(p)[1]\n",
    "    nfreqs = size(model(p[1]))[1]÷2\n",
    "    F = Array{ComplexF64,2}(undef,ndof,nfreqs)\n",
    "    ∂F = Array{ComplexF64,2}(undef,ndof,nfreqs)\n",
    "    Threads.@threads for i in 1:ndof\n",
    "        @inbounds t = chebjacobian(model,p[i])\n",
    "        @inbounds @views F[i,:]  .= t[1][1:2:end] .+ im * t[1][2:2:end]\n",
    "        @inbounds @views ∂F[i,:] .= t[2][1:2:end] .+ im * t[2][2:2:end]\n",
    "    end\n",
    "    (F,∂F)\n",
    "end\n",
    "\n",
    "function end2end(model::cheb, p::Vector{Float64}, getF::Function, f::Function, fdat::Any)::r∂tup\n",
    "    F,∂F = getF(model,p)\n",
    "    ret,back = Zygote.pullback(ξ->f(ξ,fdat),F)\n",
    "    (ret, real.(sum(conj.(back(1)[1]).*∂F, dims=2))[:,1])\n",
    "end\n",
    "\n",
    "\n",
    "# setup(;ncells::Int64=3000,npix::Int64=500,nintg::Int64=5,nspatl::Int64=120,\n",
    "#        Dz::Float64=5000, freqs::Vector{Float64}=[1.2,1.1,1.0,0.9,0.8],\n",
    "#        lb::Float64=0.11,ub::Float64=0.68,\n",
    "#        filename::String=\"alldat_5wavs.dat\", \n",
    "#        kwargs...)"
   ]
  },
  {
   "cell_type": "code",
   "execution_count": 7,
   "id": "dee36845",
   "metadata": {},
   "outputs": [
    {
     "name": "stdout",
     "output_type": "stream",
     "text": [
      "  15.504 s (18000134 allocations: 3.82 GiB)\n"
     ]
    },
    {
     "data": {
      "text/plain": [
       "9000000×5 Matrix{ComplexF64}:\n",
       "   0.335343+0.0174858im     -0.182495-0.121705im   …   -0.252102+0.209668im\n",
       "   0.393239-0.00327769im   -0.0975158+0.301278im      -0.0481215+0.064382im\n",
       " -0.0263375-0.43557im         -0.2532+0.285972im        0.244022+0.310914im\n",
       "    0.47164-0.0488387im    -0.0517905-0.0105847im       0.168522+0.513171im\n",
       "   0.340274+0.249949im      -0.286664-0.23926im         0.218804+0.456195im\n",
       "  -0.433387-0.0933897im     -0.106931+0.0560912im  …   0.0925794+0.181565im\n",
       "   0.314997-0.356543im       0.109764-0.464717im        0.213974+0.498951im\n",
       "   0.271888+0.0228046im     -0.233115-0.029118im       -0.210235+0.166059im\n",
       "   0.703674+0.111598im       0.255095-0.692678im       -0.120075+0.745096im\n",
       "   0.341962+0.129868im      -0.306224-0.506219im        0.110985+0.0490521im\n",
       "   0.306589+0.327077im     -0.0527604-0.31593im    …    0.148572+0.317185im\n",
       "   0.198418-0.262457im      0.0991664-0.4866im          0.231114+0.412544im\n",
       "    0.41625-0.58847im       -0.312801-0.376906im       -0.662688+0.334im\n",
       "           ⋮                                       ⋱  \n",
       "   0.238859+0.172249im     -0.0281767-0.259493im      -0.0696105+0.29044im\n",
       "   0.492344+0.110914im      -0.495208-0.0395285im       0.473228+0.307205im\n",
       "   0.218235-0.609684im      -0.719106-0.122964im   …   -0.357507+0.659261im\n",
       "   0.242809-0.174289im      -0.450299+0.0658841im        -0.2376+0.0947551im\n",
       "   0.383895+0.151401im    -0.00215161+0.0885425im      0.0537119+0.0306913im\n",
       "   0.357494-0.152402im      -0.243692-0.678242im        0.411845-0.585438im\n",
       "   0.689261+0.15567im        0.272254-0.685941im       -0.124309+0.744313im\n",
       " -0.0361711-0.436792im       0.259444+0.0615596im  …    0.130517+0.200066im\n",
       "   0.148326+0.10428im       -0.156086-0.32534im       -0.0568246+0.34734im\n",
       "   0.409459+0.262645im      -0.110902-0.348407im        0.117277+0.266843im\n",
       "   0.387674-0.0988833im     -0.502309-0.23656im         0.174606+0.448943im\n",
       "   0.308888-0.57854im       -0.290062+0.366227im        0.154981+0.485961im"
      ]
     },
     "metadata": {},
     "output_type": "display_data"
    }
   ],
   "source": [
    "lb,ub=0.11,0.68\n",
    "filename=\"alldat_5wavs.dat\"\n",
    "model = getmodel(lb,ub,filename)\n",
    "(F,∂F) = @btime eval2c(model,rand(lb:0.0000000001:ub,9000000))\n",
    "display(F)"
   ]
  },
  {
   "cell_type": "code",
   "execution_count": 3,
   "id": "deeaf949",
   "metadata": {},
   "outputs": [
    {
     "data": {
      "text/plain": [
       "ChebPoly{1,StaticArraysCore.SVector{10, Float64},Float64} order (999,) polynomial on [0.11,0.68]"
      ]
     },
     "execution_count": 3,
     "metadata": {},
     "output_type": "execute_result"
    }
   ],
   "source": [
    "model"
   ]
  },
  {
   "cell_type": "code",
   "execution_count": 4,
   "id": "68d4c3d4",
   "metadata": {},
   "outputs": [
    {
     "name": "stdout",
     "output_type": "stream",
     "text": [
      "  3.264581 seconds (2.65 M allocations: 372.743 MiB, 3.64% gc time, 4.86% compilation time)\n",
      "  2.211243 seconds (12.09 M allocations: 1.892 GiB, 14.39% gc time, 49.65% compilation time)\n",
      "  3.140972 seconds (2.05 M allocations: 338.568 MiB, 2.84% gc time, 1.11% compilation time)\n",
      "  1.186752 seconds (7.33 M allocations: 1.645 GiB, 14.99% gc time, 9.32% compilation time)\n",
      "  3.123095 seconds (2.05 M allocations: 338.560 MiB, 1.20% gc time, 1.15% compilation time)\n",
      "  1.152620 seconds (7.33 M allocations: 1.645 GiB, 10.71% gc time, 20.91% compilation time)\n",
      "  1.110561 seconds (664.40 k allocations: 984.273 MiB, 12.98% gc time, 23.32% compilation time)\n",
      "  0.817125 seconds (1.38 k allocations: 949.722 MiB, 4.65% gc time)\n",
      "  0.811426 seconds (1.37 k allocations: 949.722 MiB)\n",
      "hello\n"
     ]
    }
   ],
   "source": [
    "function evalmodel(model::Any,p::Vector{Float64})\n",
    "    ThreadsX.map(a->chebjacobian(model,a),p)\n",
    "end\n",
    "\n",
    "function r2c(t)\n",
    "    nrows = size(t)[1]\n",
    "    ncols = size(t[1][1])[1]÷2\n",
    "    F = Array{ComplexF64,2}(undef,nrows,ncols)\n",
    "    ∂F = Array{ComplexF64,2}(undef,nrows,ncols)\n",
    "    Threads.@threads for i in 1:nrows\n",
    "        F[i,:]  = t[i][1][1:2:end] + im * t[i][1][2:2:end]\n",
    "        ∂F[i,:] = t[i][2][1:2:end] + im * t[i][2][2:2:end]\n",
    "    end\n",
    "    (F,∂F)\n",
    "end\n",
    "\n",
    "lb,ub=0.11,0.68\n",
    "filename=\"alldat_5wavs.dat\"\n",
    "model = getmodel(lb,ub,filename)\n",
    "\n",
    "x = rand(lb:0.000000001:ub,1000000)\n",
    "@time map(a->chebjacobian(model,a),x);\n",
    "@time ThreadsX.map(a->chebjacobian(model,a),x);\n",
    "x = rand(lb:0.000000001:ub,1000000)\n",
    "@time map(a->chebjacobian(model,a),x);\n",
    "@time ThreadsX.map(a->chebjacobian(model,a),x);\n",
    "x = rand(lb:0.000000001:ub,1000000)\n",
    "@time map(a->chebjacobian(model,a),x);\n",
    "@time ThreadsX.map(a->chebjacobian(model,a),x);\n",
    "\n",
    "\n",
    "p = rand(lb:0.000000001:ub,1000000)\n",
    "@time evalmodel(model,p);\n",
    "p = rand(lb:0.000000001:ub,1000000)\n",
    "@time evalmodel(model,p);\n",
    "p = rand(lb:0.000000001:ub,1000000)\n",
    "@time evalmodel(model,p);\n",
    "\n",
    "println(\"hello\")"
   ]
  },
  {
   "cell_type": "code",
   "execution_count": 7,
   "id": "f37814e8",
   "metadata": {},
   "outputs": [
    {
     "name": "stdout",
     "output_type": "stream",
     "text": [
      "  0.048871 seconds (4.79 k allocations: 178.695 KiB, 99.84% compilation time)\n",
      "  0.000049 seconds (54 allocations: 7.688 KiB)\n"
     ]
    },
    {
     "data": {
      "text/plain": [
       "Tuple{Float64, Vector{Float64}}"
      ]
     },
     "execution_count": 7,
     "metadata": {},
     "output_type": "execute_result"
    }
   ],
   "source": [
    "function f(F::Array{ComplexF64,2})::Float64\n",
    "    #sum(abs2.(F))\n",
    "    sum(real.(F.^2) + 2.0*imag.(F))\n",
    "end\n",
    "\n",
    "function makeF(p::Vector{Float64})::c∂tup{2}\n",
    "    F = reduce(hcat,(1+2im)*[p,p,p])\n",
    "    tmp = ones(size(p))\n",
    "    ∂F = reduce(hcat,(1+2im)*[tmp,tmp,tmp])\n",
    "    (F,∂F)\n",
    "end\n",
    "\n",
    "function e2e(p::Vector{Float64},getF::Function,obj::Function)::r∂tup\n",
    "    F,∂F = getF(p)\n",
    "    ret,back = Zygote.pullback(obj,F)\n",
    "    (ret, real.(sum(conj.(back(1)[1]).*∂F, dims=2))[:,1])\n",
    "end\n",
    "    \n",
    "p=[1.,2.,3.]\n",
    "@time e2e(p,makeF,f)\n",
    "p=rand(10)\n",
    "@time a = e2e(p,makeF,f)\n",
    "typeof(a)"
   ]
  }
 ],
 "metadata": {
  "kernelspec": {
   "display_name": "Julia (8 threads) 1.8.5",
   "language": "julia",
   "name": "julia-_8-threads_-1.8"
  },
  "language_info": {
   "file_extension": ".jl",
   "mimetype": "application/julia",
   "name": "julia",
   "version": "1.8.5"
  }
 },
 "nbformat": 4,
 "nbformat_minor": 5
}
