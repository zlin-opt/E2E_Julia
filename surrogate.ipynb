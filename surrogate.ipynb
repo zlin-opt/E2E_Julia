{
 "cells": [
  {
   "cell_type": "code",
   "execution_count": 295,
   "id": "e7738378",
   "metadata": {},
   "outputs": [
    {
     "name": "stderr",
     "output_type": "stream",
     "text": [
      "\u001b[32m\u001b[1m   Resolving\u001b[22m\u001b[39m package versions...\n",
      "\u001b[32m\u001b[1m  No Changes\u001b[22m\u001b[39m to `C:\\Users\\zinli\\.julia\\environments\\v1.8\\Project.toml`\n",
      "\u001b[32m\u001b[1m  No Changes\u001b[22m\u001b[39m to `C:\\Users\\zinli\\.julia\\environments\\v1.8\\Manifest.toml`\n",
      "\u001b[32m\u001b[1m   Resolving\u001b[22m\u001b[39m package versions...\n",
      "\u001b[32m\u001b[1m  No Changes\u001b[22m\u001b[39m to `C:\\Users\\zinli\\.julia\\environments\\v1.8\\Project.toml`\n",
      "\u001b[32m\u001b[1m  No Changes\u001b[22m\u001b[39m to `C:\\Users\\zinli\\.julia\\environments\\v1.8\\Manifest.toml`\n",
      "\u001b[32m\u001b[1m   Resolving\u001b[22m\u001b[39m package versions...\n",
      "\u001b[32m\u001b[1m   Installed\u001b[22m\u001b[39m RealDot ────────────── v0.1.0\n",
      "\u001b[32m\u001b[1m   Installed\u001b[22m\u001b[39m GPUArraysCore ──────── v0.1.4\n",
      "\u001b[32m\u001b[1m   Installed\u001b[22m\u001b[39m DiffRules ──────────── v1.13.0\n",
      "\u001b[32m\u001b[1m   Installed\u001b[22m\u001b[39m DiffResults ────────── v1.1.0\n",
      "\u001b[32m\u001b[1m   Installed\u001b[22m\u001b[39m SpecialFunctions ───── v2.2.0\n",
      "\u001b[32m\u001b[1m   Installed\u001b[22m\u001b[39m IRTools ────────────── v0.4.9\n",
      "\u001b[32m\u001b[1m   Installed\u001b[22m\u001b[39m Zygote ─────────────── v0.6.60\n",
      "\u001b[32m\u001b[1m   Installed\u001b[22m\u001b[39m NaNMath ────────────── v1.0.2\n",
      "\u001b[32m\u001b[1m   Installed\u001b[22m\u001b[39m IrrationalConstants ── v0.2.2\n",
      "\u001b[32m\u001b[1m   Installed\u001b[22m\u001b[39m StructArrays ───────── v0.6.15\n",
      "\u001b[32m\u001b[1m   Installed\u001b[22m\u001b[39m LLVMExtra_jll ──────── v0.0.21+0\n",
      "\u001b[32m\u001b[1m   Installed\u001b[22m\u001b[39m CEnum ──────────────── v0.4.2\n",
      "\u001b[32m\u001b[1m   Installed\u001b[22m\u001b[39m FillArrays ─────────── v1.0.0\n",
      "\u001b[32m\u001b[1m   Installed\u001b[22m\u001b[39m ForwardDiff ────────── v0.10.35\n",
      "\u001b[32m\u001b[1m   Installed\u001b[22m\u001b[39m GPUArrays ──────────── v8.6.6\n",
      "\u001b[32m\u001b[1m   Installed\u001b[22m\u001b[39m OpenSpecFun_jll ────── v0.5.5+0\n",
      "\u001b[32m\u001b[1m   Installed\u001b[22m\u001b[39m CommonSubexpressions ─ v0.3.0\n",
      "\u001b[32m\u001b[1m   Installed\u001b[22m\u001b[39m InverseFunctions ───── v0.1.8\n",
      "\u001b[32m\u001b[1m   Installed\u001b[22m\u001b[39m LogExpFunctions ────── v0.3.23\n",
      "\u001b[32m\u001b[1m   Installed\u001b[22m\u001b[39m ChangesOfVariables ─── v0.1.6\n",
      "\u001b[32m\u001b[1m   Installed\u001b[22m\u001b[39m DocStringExtensions ── v0.9.3\n",
      "\u001b[32m\u001b[1m   Installed\u001b[22m\u001b[39m ChainRules ─────────── v1.49.0\n",
      "\u001b[32m\u001b[1m   Installed\u001b[22m\u001b[39m LLVM ───────────────── v5.0.0\n",
      "\u001b[32m\u001b[1m    Updating\u001b[22m\u001b[39m `C:\\Users\\zinli\\.julia\\environments\\v1.8\\Project.toml`\n",
      " \u001b[90m [e88e6eb3] \u001b[39m\u001b[92m+ Zygote v0.6.60\u001b[39m\n",
      "\u001b[32m\u001b[1m    Updating\u001b[22m\u001b[39m `C:\\Users\\zinli\\.julia\\environments\\v1.8\\Manifest.toml`\n",
      " \u001b[90m [fa961155] \u001b[39m\u001b[92m+ CEnum v0.4.2\u001b[39m\n",
      " \u001b[90m [082447d4] \u001b[39m\u001b[92m+ ChainRules v1.49.0\u001b[39m\n",
      " \u001b[90m [9e997f8a] \u001b[39m\u001b[92m+ ChangesOfVariables v0.1.6\u001b[39m\n",
      " \u001b[90m [bbf7d656] \u001b[39m\u001b[92m+ CommonSubexpressions v0.3.0\u001b[39m\n",
      " \u001b[90m [163ba53b] \u001b[39m\u001b[92m+ DiffResults v1.1.0\u001b[39m\n",
      " \u001b[90m [b552c78f] \u001b[39m\u001b[92m+ DiffRules v1.13.0\u001b[39m\n",
      " \u001b[90m [ffbed154] \u001b[39m\u001b[92m+ DocStringExtensions v0.9.3\u001b[39m\n",
      " \u001b[90m [1a297f60] \u001b[39m\u001b[92m+ FillArrays v1.0.0\u001b[39m\n",
      " \u001b[90m [f6369f11] \u001b[39m\u001b[92m+ ForwardDiff v0.10.35\u001b[39m\n",
      " \u001b[90m [0c68f7d7] \u001b[39m\u001b[92m+ GPUArrays v8.6.6\u001b[39m\n",
      " \u001b[90m [46192b85] \u001b[39m\u001b[92m+ GPUArraysCore v0.1.4\u001b[39m\n",
      " \u001b[90m [7869d1d1] \u001b[39m\u001b[92m+ IRTools v0.4.9\u001b[39m\n",
      " \u001b[90m [3587e190] \u001b[39m\u001b[92m+ InverseFunctions v0.1.8\u001b[39m\n",
      " \u001b[90m [92d709cd] \u001b[39m\u001b[92m+ IrrationalConstants v0.2.2\u001b[39m\n",
      " \u001b[90m [929cbde3] \u001b[39m\u001b[92m+ LLVM v5.0.0\u001b[39m\n",
      " \u001b[90m [2ab3a3ac] \u001b[39m\u001b[92m+ LogExpFunctions v0.3.23\u001b[39m\n",
      " \u001b[90m [77ba4419] \u001b[39m\u001b[92m+ NaNMath v1.0.2\u001b[39m\n",
      " \u001b[90m [c1ae055f] \u001b[39m\u001b[92m+ RealDot v0.1.0\u001b[39m\n",
      " \u001b[90m [276daf66] \u001b[39m\u001b[92m+ SpecialFunctions v2.2.0\u001b[39m\n",
      " \u001b[90m [09ab397b] \u001b[39m\u001b[92m+ StructArrays v0.6.15\u001b[39m\n",
      " \u001b[90m [e88e6eb3] \u001b[39m\u001b[92m+ Zygote v0.6.60\u001b[39m\n",
      " \u001b[90m [dad2f222] \u001b[39m\u001b[92m+ LLVMExtra_jll v0.0.21+0\u001b[39m\n",
      " \u001b[90m [efe28fd5] \u001b[39m\u001b[92m+ OpenSpecFun_jll v0.5.5+0\u001b[39m\n",
      " \u001b[90m [05823500] \u001b[39m\u001b[92m+ OpenLibm_jll v0.8.1+0\u001b[39m\n",
      "\u001b[32m\u001b[1mPrecompiling\u001b[22m\u001b[39m project...\n",
      "\u001b[32m  ✓ \u001b[39m\u001b[90mRealDot\u001b[39m\n",
      "\u001b[32m  ✓ \u001b[39m\u001b[90mOpenLibm_jll\u001b[39m\n",
      "\u001b[32m  ✓ \u001b[39m\u001b[90mDocStringExtensions\u001b[39m\n",
      "\u001b[32m  ✓ \u001b[39m\u001b[90mCEnum\u001b[39m\n",
      "\u001b[32m  ✓ \u001b[39m\u001b[90mInverseFunctions\u001b[39m\n",
      "\u001b[32m  ✓ \u001b[39m\u001b[90mFillArrays\u001b[39m\n",
      "\u001b[32m  ✓ \u001b[39m\u001b[90mIrrationalConstants\u001b[39m\n",
      "\u001b[32m  ✓ \u001b[39m\u001b[90mGPUArraysCore\u001b[39m\n",
      "\u001b[32m  ✓ \u001b[39m\u001b[90mDiffResults\u001b[39m\n",
      "\u001b[32m  ✓ \u001b[39m\u001b[90mCommonSubexpressions\u001b[39m\n",
      "\u001b[32m  ✓ \u001b[39m\u001b[90mChangesOfVariables\u001b[39m\n",
      "\u001b[32m  ✓ \u001b[39m\u001b[90mLLVMExtra_jll\u001b[39m\n",
      "\u001b[32m  ✓ \u001b[39m\u001b[90mNaNMath\u001b[39m\n",
      "\u001b[32m  ✓ \u001b[39m\u001b[90mOpenSpecFun_jll\u001b[39m\n",
      "\u001b[32m  ✓ \u001b[39m\u001b[90mIRTools\u001b[39m\n",
      "\u001b[32m  ✓ \u001b[39m\u001b[90mStructArrays\u001b[39m\n",
      "\u001b[32m  ✓ \u001b[39m\u001b[90mLogExpFunctions\u001b[39m\n",
      "\u001b[32m  ✓ \u001b[39m\u001b[90mLLVM\u001b[39m\n",
      "\u001b[32m  ✓ \u001b[39m\u001b[90mSpecialFunctions\u001b[39m\n",
      "\u001b[32m  ✓ \u001b[39m\u001b[90mDiffRules\u001b[39m\n",
      "\u001b[32m  ✓ \u001b[39m\u001b[90mChainRules\u001b[39m\n",
      "\u001b[32m  ✓ \u001b[39m\u001b[90mGPUArrays\u001b[39m\n",
      "\u001b[32m  ✓ \u001b[39m\u001b[90mForwardDiff\u001b[39m\n",
      "\u001b[32m  ✓ \u001b[39mZygote\n",
      "  24 dependencies successfully precompiled in 27 seconds. 54 already precompiled.\n"
     ]
    }
   ],
   "source": [
    "import Pkg; Pkg.add(\"FastChebInterp\")\n",
    "import Pkg; Pkg.add(\"ThreadsX\")\n",
    "import Pkg; Pkg.add(\"Zygote\")"
   ]
  },
  {
   "cell_type": "code",
   "execution_count": 1,
   "id": "1d696a08",
   "metadata": {},
   "outputs": [
    {
     "data": {
      "text/plain": [
       "end2end (generic function with 1 method)"
      ]
     },
     "execution_count": 1,
     "metadata": {},
     "output_type": "execute_result"
    }
   ],
   "source": [
    "using DelimitedFiles\n",
    "using FastChebInterp\n",
    "using ThreadsX\n",
    "using Base.Threads\n",
    "using Zygote\n",
    "\n",
    "const c∂tup{N} = Tuple{Array{ComplexF64,N},Array{ComplexF64,N}}\n",
    "const r∂tup = Tuple{Float64,Vector{Float64}}\n",
    "const cheb = FastChebInterp.ChebPoly\n",
    "\n",
    "\"\"\"\n",
    "    getmodel\n",
    "\n",
    "Generates a chebyshev polynomial interpolated from the datafile. \n",
    "The latter must be in the format ipt, DoF, Re(t[freq1]), Im(t[freq2]) ... \n",
    "In other words, the dimensions of the datafile must be (order+1,2+2*nfreqs)\n",
    "\"\"\"\n",
    "function getmodel(lb,ub,filename)\n",
    "    dat = readdlm(filename,' ',Float64,'\\n')\n",
    "    dat = dat[:,3:end]'\n",
    "    dat = [dat[:,i] for i in 1:size(dat,2)]\n",
    "    model = chebinterp(dat,lb,ub)\n",
    "end\n",
    "\n",
    "\"\"\"\n",
    "    eval2c\n",
    "\n",
    "Multi-threaded evaluation of meta-atom transmission coefficients \n",
    "for multiple frequencies using the chebyshev \"model\". \n",
    "Known benchmark: 9 million 5 freqs (=90 mil evals) of a 1000-degree poly take 4 sec on 64 threads\n",
    "\"\"\"\n",
    "function eval2c(model::cheb,p::Vector{Float64})::c∂tup{2}\n",
    "    ndof = size(p)[1]\n",
    "    nfreqs = size(model(p[1]))[1]÷2\n",
    "    F = Array{ComplexF64,2}(undef,ndof,nfreqs)\n",
    "    ∂F = Array{ComplexF64,2}(undef,ndof,nfreqs)\n",
    "    Threads.@threads for i in 1:ndof\n",
    "        @inbounds t = chebjacobian(model,p[i])\n",
    "        @inbounds F[i,:]  .= t[1][1:2:end] .+ im * t[1][2:2:end]\n",
    "        @inbounds ∂F[i,:] .= t[2][1:2:end] .+ im * t[2][2:2:end]\n",
    "    end\n",
    "    (F,∂F)\n",
    "end\n",
    "\n",
    "function end2end(model::cheb, p::Vector{Float64}, getF::Function, f::Function, fdat::Any)::r∂tup\n",
    "    F,∂F = getF(model,p)\n",
    "    ret,back = Zygote.pullback(ξ->f(ξ,fdat),F)\n",
    "    (ret, real.(sum(conj.(back(1)[1]).*∂F, dims=2))[:,1])\n",
    "end\n",
    "\n",
    "\n",
    "# setup(;ncells::Int64=3000,npix::Int64=500,nintg::Int64=5,nspatl::Int64=120,\n",
    "#        Dz::Float64=5000, freqs::Vector{Float64}=[1.2,1.1,1.0,0.9,0.8],\n",
    "#        lb::Float64=0.11,ub::Float64=0.68,\n",
    "#        filename::String=\"alldat_5wavs.dat\", \n",
    "#        kwargs...)"
   ]
  },
  {
   "cell_type": "code",
   "execution_count": 4,
   "id": "68d4c3d4",
   "metadata": {},
   "outputs": [
    {
     "name": "stdout",
     "output_type": "stream",
     "text": [
      "  3.264581 seconds (2.65 M allocations: 372.743 MiB, 3.64% gc time, 4.86% compilation time)\n",
      "  2.211243 seconds (12.09 M allocations: 1.892 GiB, 14.39% gc time, 49.65% compilation time)\n",
      "  3.140972 seconds (2.05 M allocations: 338.568 MiB, 2.84% gc time, 1.11% compilation time)\n",
      "  1.186752 seconds (7.33 M allocations: 1.645 GiB, 14.99% gc time, 9.32% compilation time)\n",
      "  3.123095 seconds (2.05 M allocations: 338.560 MiB, 1.20% gc time, 1.15% compilation time)\n",
      "  1.152620 seconds (7.33 M allocations: 1.645 GiB, 10.71% gc time, 20.91% compilation time)\n",
      "  1.110561 seconds (664.40 k allocations: 984.273 MiB, 12.98% gc time, 23.32% compilation time)\n",
      "  0.817125 seconds (1.38 k allocations: 949.722 MiB, 4.65% gc time)\n",
      "  0.811426 seconds (1.37 k allocations: 949.722 MiB)\n",
      "hello\n"
     ]
    }
   ],
   "source": [
    "function evalmodel(model::Any,p::Vector{Float64})\n",
    "    ThreadsX.map(a->chebjacobian(model,a),p)\n",
    "end\n",
    "\n",
    "function r2c(t)\n",
    "    nrows = size(t)[1]\n",
    "    ncols = size(t[1][1])[1]÷2\n",
    "    F = Array{ComplexF64,2}(undef,nrows,ncols)\n",
    "    ∂F = Array{ComplexF64,2}(undef,nrows,ncols)\n",
    "    Threads.@threads for i in 1:nrows\n",
    "        F[i,:]  = t[i][1][1:2:end] + im * t[i][1][2:2:end]\n",
    "        ∂F[i,:] = t[i][2][1:2:end] + im * t[i][2][2:2:end]\n",
    "    end\n",
    "    (F,∂F)\n",
    "end\n",
    "\n",
    "lb,ub=0.11,0.68\n",
    "filename=\"alldat_5wavs.dat\"\n",
    "model = getmodel(lb,ub,filename)\n",
    "\n",
    "x = rand(lb:0.000000001:ub,1000000)\n",
    "@time map(a->chebjacobian(model,a),x);\n",
    "@time ThreadsX.map(a->chebjacobian(model,a),x);\n",
    "x = rand(lb:0.000000001:ub,1000000)\n",
    "@time map(a->chebjacobian(model,a),x);\n",
    "@time ThreadsX.map(a->chebjacobian(model,a),x);\n",
    "x = rand(lb:0.000000001:ub,1000000)\n",
    "@time map(a->chebjacobian(model,a),x);\n",
    "@time ThreadsX.map(a->chebjacobian(model,a),x);\n",
    "\n",
    "\n",
    "p = rand(lb:0.000000001:ub,1000000)\n",
    "@time evalmodel(model,p);\n",
    "p = rand(lb:0.000000001:ub,1000000)\n",
    "@time evalmodel(model,p);\n",
    "p = rand(lb:0.000000001:ub,1000000)\n",
    "@time evalmodel(model,p);\n",
    "\n",
    "println(\"hello\")"
   ]
  },
  {
   "cell_type": "code",
   "execution_count": 4,
   "id": "dee36845",
   "metadata": {},
   "outputs": [
    {
     "name": "stdout",
     "output_type": "stream",
     "text": [
      "  0.986189 seconds (6.00 M allocations: 793.463 MiB, 9.89% gc time)\n",
      "  0.965276 seconds (6.00 M allocations: 793.473 MiB, 9.19% gc time)\n",
      "  0.994329 seconds (6.00 M allocations: 793.474 MiB, 8.44% gc time)\n",
      "hello\n"
     ]
    }
   ],
   "source": [
    "lb,ub=0.11,0.68\n",
    "filename=\"alldat_5wavs.dat\"\n",
    "model = getmodel(lb,ub,filename)\n",
    "p = rand(lb:0.000000001:ub,1000000)\n",
    "@time eval2c(model,p)[2][4435,:];\n",
    "p = rand(lb:0.000000001:ub,1000000)\n",
    "@time eval2c(model,p)[2][5131,:];\n",
    "p = rand(lb:0.000000001:ub,1000000)\n",
    "@time eval2c(model,p)[1][1155,:];\n",
    "println(\"hello\")"
   ]
  },
  {
   "cell_type": "code",
   "execution_count": 7,
   "id": "f37814e8",
   "metadata": {},
   "outputs": [
    {
     "name": "stdout",
     "output_type": "stream",
     "text": [
      "  0.048871 seconds (4.79 k allocations: 178.695 KiB, 99.84% compilation time)\n",
      "  0.000049 seconds (54 allocations: 7.688 KiB)\n"
     ]
    },
    {
     "data": {
      "text/plain": [
       "Tuple{Float64, Vector{Float64}}"
      ]
     },
     "execution_count": 7,
     "metadata": {},
     "output_type": "execute_result"
    }
   ],
   "source": [
    "function f(F::Array{ComplexF64,2})::Float64\n",
    "    #sum(abs2.(F))\n",
    "    sum(real.(F.^2) + 2.0*imag.(F))\n",
    "end\n",
    "\n",
    "function makeF(p::Vector{Float64})::c∂tup{2}\n",
    "    F = reduce(hcat,(1+2im)*[p,p,p])\n",
    "    tmp = ones(size(p))\n",
    "    ∂F = reduce(hcat,(1+2im)*[tmp,tmp,tmp])\n",
    "    (F,∂F)\n",
    "end\n",
    "\n",
    "function e2e(p::Vector{Float64},getF::Function,obj::Function)::r∂tup\n",
    "    F,∂F = getF(p)\n",
    "    ret,back = Zygote.pullback(obj,F)\n",
    "    (ret, real.(sum(conj.(back(1)[1]).*∂F, dims=2))[:,1])\n",
    "end\n",
    "    \n",
    "p=[1.,2.,3.]\n",
    "@time e2e(p,makeF,f)\n",
    "p=rand(10)\n",
    "@time a = e2e(p,makeF,f)\n",
    "typeof(a)"
   ]
  },
  {
   "cell_type": "code",
   "execution_count": 5,
   "id": "ecc1cf0b",
   "metadata": {},
   "outputs": [
    {
     "data": {
      "text/plain": [
       "typeof(makeF) (singleton type of function makeF, subtype of Function)"
      ]
     },
     "execution_count": 5,
     "metadata": {},
     "output_type": "execute_result"
    }
   ],
   "source": [
    "typeof(makeF)"
   ]
  },
  {
   "cell_type": "code",
   "execution_count": null,
   "id": "97e05515",
   "metadata": {},
   "outputs": [],
   "source": []
  }
 ],
 "metadata": {
  "kernelspec": {
   "display_name": "Julia (8 threads) 1.8.5",
   "language": "julia",
   "name": "julia-_8-threads_-1.8"
  },
  "language_info": {
   "file_extension": ".jl",
   "mimetype": "application/julia",
   "name": "julia",
   "version": "1.8.5"
  }
 },
 "nbformat": 4,
 "nbformat_minor": 5
}
