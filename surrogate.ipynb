{
 "cells": [
  {
   "cell_type": "code",
   "execution_count": null,
   "id": "e7738378",
   "metadata": {},
   "outputs": [],
   "source": [
    "import Pkg; \n",
    "Pkg.add(\"FastChebInterp\");\n",
    "Pkg.add(\"ThreadsX\");\n",
    "Pkg.add(\"Zygote\");\n",
    "Pkg.add(\"Memoize\");"
   ]
  },
  {
   "cell_type": "code",
   "execution_count": 1,
   "id": "1d696a08",
   "metadata": {},
   "outputs": [
    {
     "data": {
      "text/plain": [
       "end2end"
      ]
     },
     "execution_count": 1,
     "metadata": {},
     "output_type": "execute_result"
    }
   ],
   "source": [
    "using DelimitedFiles\n",
    "using FastChebInterp\n",
    "using ThreadsX\n",
    "using Base.Threads\n",
    "using Zygote\n",
    "using BenchmarkTools\n",
    "using Memoize\n",
    "\n",
    "const cheb = FastChebInterp.ChebPoly\n",
    "\n",
    "\"\"\"\n",
    "    getmodel\n",
    "\n",
    "Generates a chebyshev polynomial interpolated from the datafile. \n",
    "The latter must be in the format ipt, DoF, Re(t[freq1]), Im(t[freq2]) ... \n",
    "In other words, the dimensions of the datafile must be (order+1,2+2*nfreqs)\n",
    "\"\"\"\n",
    "function getmodel(lb,ub,filename)\n",
    "    dat = readdlm(filename,' ',Float64,'\\n')\n",
    "    dat = dat[:,3:end]'\n",
    "    dat = [dat[:,i] for i in 1:size(dat,2)]\n",
    "    model = chebinterp(dat,lb,ub)\n",
    "end\n",
    "\n",
    "\"\"\"\n",
    "    eval2c!(F,∂F, model,p)\n",
    "\n",
    "In-place multi-threaded evaluation of meta-atom transmission coefficients for multiple frequencies using the chebyshev model. \n",
    "\n",
    "F and ∂F must be pre-allocated as\n",
    " F = Array{ComplexF64,2}(undef,#freqs,#unit cells)\n",
    "∂F = Array{ComplexF64,2}(undef,#freqs,#unit cells)\n",
    "\"\"\"\n",
    "function eval2c!(F,∂F, model::cheb,p::Vector{Float64})\n",
    "    ndof = size(p)[1]\n",
    "    Threads.@threads for i in 1:ndof\n",
    "        @inbounds t,∂t = chebjacobian(model,p[i])\n",
    "        @inbounds @views @.  F[:,i] = complex( t[1:2:end], t[2:2:end])\n",
    "        @inbounds @views @. ∂F[:,i] = complex(∂t[1:2:end],∂t[2:2:end])\n",
    "    end\n",
    "end\n",
    "\n",
    "\"\"\"\n",
    "Explanation: for f(z=x+iy) ∈ ℜ, Zygote returns df = ∂f/∂x + i ∂f/∂y \n",
    "The Wirtinger derivative is ∂f/∂z = 1/2 (∂f/∂x - i ∂f/∂y) = 1/2 conj(df)\n",
    "The chain rule is ∂f/∂p = ∂f/∂z ∂z/∂p + ∂f/∂z' ∂z'/∂p = 2 real( ∂f/∂z ∂z/∂p ) = real( conj(df) ∂z/∂p ) \n",
    "grad must be pre-allocated as\n",
    "grad = Vector{Float64}(undef,#unit cells)\n",
    "\"\"\"\n",
    "function end2end(grad, F,∂F, model::cheb, p::Vector{Float64}, getF!::Function, f::Function, fdat::Any)\n",
    "    getF!(F,∂F, model,p)\n",
    "    ret,back = Zygote.pullback(ξ->f(ξ,fdat),F)\n",
    "    @. grad[:] = real(sum(conj(back(1)[1]) * ∂F, dims=1))[1,:]\n",
    "    return ret\n",
    "end\n",
    "\n",
    "\n",
    "# setup(;ncells::Int64=3000,npix::Int64=500,nintg::Int64=5,nspatl::Int64=120,\n",
    "#        Dz::Float64=5000, freqs::Vector{Float64}=[1.2,1.1,1.0,0.9,0.8],\n",
    "#        lb::Float64=0.11,ub::Float64=0.68,\n",
    "#        filename::String=\"alldat_5wavs.dat\", \n",
    "#        kwargs...)"
   ]
  },
  {
   "cell_type": "code",
   "execution_count": 5,
   "id": "dee36845",
   "metadata": {},
   "outputs": [
    {
     "name": "stdout",
     "output_type": "stream",
     "text": [
      "  17.743 s (64 allocations: 5.80 KiB)\n"
     ]
    }
   ],
   "source": [
    "lb,ub=0.11,0.68\n",
    "filename=\"alldat_5wavs.dat\"\n",
    "model = getmodel(lb,ub,filename)\n",
    "ncells = 20000000\n",
    "p = rand(lb:0.01/ncells:ub,ncells)\n",
    "F = Array{ComplexF64,2}(undef,5,ncells)\n",
    "∂F = Array{ComplexF64,2}(undef,5,ncells)\n",
    "@btime eval2c!($F,$∂F, $model, $p);"
   ]
  }
 ],
 "metadata": {
  "kernelspec": {
   "display_name": "Julia (8 threads) 1.8.5",
   "language": "julia",
   "name": "julia-_8-threads_-1.8"
  },
  "language_info": {
   "file_extension": ".jl",
   "mimetype": "application/julia",
   "name": "julia",
   "version": "1.8.5"
  }
 },
 "nbformat": 4,
 "nbformat_minor": 5
}
